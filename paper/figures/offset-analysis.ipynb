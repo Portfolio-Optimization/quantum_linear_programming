{
 "cells": [
  {
   "cell_type": "code",
   "execution_count": null,
   "metadata": {},
   "outputs": [],
   "source": [
    "import os\n",
    "\n",
    "os.environ[\"DJANGO_ALLOW_ASYNC_UNSAFE\"] = \"true\"\n",
    "from tdse_plots import aggregate\n",
    "from json import dumps\n",
    "from qlp.tdse.schedule import AnnealSchedule\n",
    "\n",
    "import numpy as np\n",
    "import matplotlib.pylab as plt\n",
    "import seaborn as sns"
   ]
  },
  {
   "cell_type": "code",
   "execution_count": null,
   "metadata": {},
   "outputs": [],
   "source": [
    "data = aggregate()"
   ]
  },
  {
   "cell_type": "code",
   "execution_count": null,
   "metadata": {},
   "outputs": [],
   "source": [
    "offset = 0.05\n",
    "print(\"offset:\", offset)\n",
    "print(\"tag:\", data[offset].tag)\n",
    "print(\"offset db details:\", dumps(data[offset].offset, indent=2))\n",
    "print(\"hi:\", data[offset].offset[\"hi_for_offset\"])\n",
    "\n",
    "schedule_pos = AnnealSchedule(**data[offset].offset)\n",
    "\n",
    "\n",
    "print(\"offsets:\", schedule.offset_list)"
   ]
  },
  {
   "cell_type": "code",
   "execution_count": null,
   "metadata": {},
   "outputs": [],
   "source": [
    "offset = -0.05\n",
    "print(\"offset:\", offset)\n",
    "print(\"tag:\", data[offset].tag)\n",
    "print(\"offset db details:\", dumps(data[offset].offset, indent=2))\n",
    "print(\"hi:\", data[offset].offset[\"hi_for_offset\"])\n",
    "schedule_neg = AnnealSchedule(**data[offset].offset)\n",
    "print(\"offsets:\", schedule.offset_list)"
   ]
  },
  {
   "cell_type": "code",
   "execution_count": null,
   "metadata": {
    "scrolled": false
   },
   "outputs": [],
   "source": [
    "s = np.linspace(0, 1, 100)\n",
    "\n",
    "fig, axs = plt.subplots(ncols=2, figsize=(6, 3), dpi=200)\n",
    "\n",
    "a = np.array(list(map(schedule_pos.A, s))).T\n",
    "b = np.array(list(map(schedule_pos.B, s))).T\n",
    "\n",
    "idy = np.argmin(abs(s-0.5))\n",
    "\n",
    "ax = axs[0]\n",
    "\n",
    "ax.plot(s[:-10], (b[0] / a[0])[:-10], color=\"green\", label=\"Weak field\")\n",
    "ax.plot(s[:-10], (b[-1] / a[-1])[:-10], color=\"blue\", label=\"Strong field\")\n",
    "ax.set_ylabel(\"B(s)/S(s)\")\n",
    "ax.set_xlabel(\"s\")\n",
    "ax.set_title(\"Positive offset (+0.05)\")\n",
    "ax.set_yscale(\"log\")\n",
    "ax.axvline(0.5, color=\"black\", ls=\"--\", lw=1)\n",
    "ax.axhline((b[0] / a[0])[idy], color=\"black\", ls=\"--\", lw=1)\n",
    "\n",
    "\n",
    "a = np.array(list(map(schedule_neg.A, s))).T\n",
    "b = np.array(list(map(schedule_neg.B, s))).T\n",
    "\n",
    "idy = np.argmin(abs(s-0.65))\n",
    "\n",
    "\n",
    "ax = axs[1]\n",
    "\n",
    "ax.plot(s[:-10], (b[0] / a[0])[:-10], color=\"green\", label=\"Weak field\")\n",
    "ax.plot(s[:-10], (b[-1] / a[-1])[:-10], color=\"blue\", label=\"Strong field\")\n",
    "ax.set_xlabel(\"s\")\n",
    "ax.set_title(\"Negative offset (-0.05)\")\n",
    "ax.axvline(0.65, color=\"black\", ls=\"--\", lw=1)\n",
    "ax.axhline((b[0] / a[0])[idy], color=\"black\", ls=\"--\", lw=1)\n",
    "\n",
    "\n",
    "ax.set_yscale(\"log\")\n",
    "\n",
    "sns.despine()\n",
    "\n",
    "ax.legend()\n",
    "\n",
    "plt.show()"
   ]
  },
  {
   "cell_type": "code",
   "execution_count": null,
   "metadata": {},
   "outputs": [],
   "source": [
    "fig.savefig(\"amplitude-ratios-offset.png\")"
   ]
  },
  {
   "cell_type": "code",
   "execution_count": null,
   "metadata": {},
   "outputs": [],
   "source": []
  }
 ],
 "metadata": {
  "kernelspec": {
   "display_name": "qlp",
   "language": "python",
   "name": "qlp"
  },
  "language_info": {
   "codemirror_mode": {
    "name": "ipython",
    "version": 3
   },
   "file_extension": ".py",
   "mimetype": "text/x-python",
   "name": "python",
   "nbconvert_exporter": "python",
   "pygments_lexer": "ipython3",
   "version": "3.8.2"
  }
 },
 "nbformat": 4,
 "nbformat_minor": 4
}
