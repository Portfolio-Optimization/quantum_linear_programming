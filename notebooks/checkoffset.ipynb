{
 "cells": [
  {
   "cell_type": "code",
   "execution_count": 1,
   "metadata": {},
   "outputs": [],
   "source": [
    "import numpy as np\n",
    "\n",
    "\n",
    "def _set_up_pauli():\n",
    "    \"\"\"Creates Pauli matrices and identity\n",
    "    \"\"\"\n",
    "    sigx = np.zeros((2, 2))\n",
    "    sigz = np.zeros((2, 2))\n",
    "    id2 = np.identity(2)\n",
    "    proj0 = np.zeros((2, 2))\n",
    "    proj1 = np.zeros((2, 2))\n",
    "    sigplus = np.zeros((2, 2))\n",
    "    sigminus = np.zeros((2, 2))\n",
    "    sigx[0, 1] = 1.0\n",
    "    sigx[1, 0] = 1.0\n",
    "    sigz[0, 0] = 1.0\n",
    "    sigz[1, 1] = -1.0\n",
    "    proj0[0, 0] = 1.0\n",
    "    proj1[1, 1] = 1.0\n",
    "    sigplus[1, 0] = 1.0\n",
    "    sigminus[0, 1] = 1.0\n",
    "    return id2, sigx, sigz, proj0, proj1, sigplus, sigminus\n",
    "\n",
    "\n",
    "ID2, SIG_X, SIG_Z, PROJ_0, PROJ_1, SIG_PLUS, SIG_MINUS = _set_up_pauli()\n"
   ]
  },
  {
   "cell_type": "code",
   "execution_count": null,
   "metadata": {},
   "outputs": [],
   "source": []
  },
  {
   "cell_type": "code",
   "execution_count": null,
   "metadata": {},
   "outputs": [],
   "source": []
  },
  {
   "cell_type": "code",
   "execution_count": 2,
   "metadata": {},
   "outputs": [],
   "source": [
    "nqb=2\n",
    "\n",
    "\n",
    "\n",
    "def pushtoFock(i, local):\n",
    "    \"\"\"Tensor product of `local` at particle index i with 1 in fock space\n",
    "\n",
    "    Arguments:\n",
    "        i: particle index of matrix local\n",
    "        local: matrix operator\n",
    "    \"\"\"\n",
    "    fock = np.identity(1)\n",
    "    for j in range(nqb):\n",
    "        if j == i:\n",
    "            fock = np.kron(fock, local)\n",
    "        else:\n",
    "            fock = np.kron(fock, ID2)\n",
    "    return fock\n",
    "\n",
    "FockZ=[pushtoFock(i,SIG_Z) for i in range(nqb)]\n",
    "FockZZ=[[FockZ[i]@FockZ[j] for i in range(nqb)] for j in range(nqb)]\n",
    "\n",
    "\n",
    "def _constructIsingH(Jij, hi):\n",
    "    \"\"\"Computes Hamiltonian (``J_ij is i < j``, i.e., upper diagonal\"\"\"\n",
    "    IsingH = np.zeros((2 ** nqb, 2 ** nqb))\n",
    "    for i in range(nqb):\n",
    "        IsingH += hi[i] * FockZ[i]\n",
    "        for j in range(i):\n",
    "            IsingH += Jij[j, i] * FockZZ[i][j]\n",
    "    return IsingH"
   ]
  },
  {
   "cell_type": "code",
   "execution_count": 3,
   "metadata": {},
   "outputs": [
    {
     "name": "stdout",
     "output_type": "stream",
     "text": [
      "[[ 4.  0.  0.  0.]\n",
      " [ 0. -2.  0.  0.]\n",
      " [ 0.  0. -2.  0.]\n",
      " [ 0.  0.  0.  0.]]\n"
     ]
    }
   ],
   "source": [
    "# no offset\n",
    "Jij=np.array([[0.0,2.0],[2.0,0.0]])\n",
    "hi=np.array([1.0,1.0])\n",
    "IsingH=_constructIsingH(Jij, hi)\n",
    "print(IsingH)"
   ]
  },
  {
   "cell_type": "code",
   "execution_count": 5,
   "metadata": {},
   "outputs": [
    {
     "name": "stdout",
     "output_type": "stream",
     "text": [
      "[[ 3.98997487  0.          0.          0.        ]\n",
      " [ 0.         -2.18997487  0.          0.        ]\n",
      " [ 0.          0.         -1.78997487  0.        ]\n",
      " [ 0.          0.          0.         -0.01002513]]\n"
     ]
    }
   ],
   "source": [
    "# with offset\n",
    "B=np.array([0.9,1.1])\n",
    "\n",
    "for i in range(nqb):\n",
    "    for j in range(nqb):\n",
    "        Jij[i,j]=Jij[i,j]*np.sqrt(B[i] * B[j])\n",
    "    hi[i]=hi[i]*B[i] \n",
    "\n",
    "IsingH=_constructIsingH(Jij, hi)\n",
    "print(IsingH)"
   ]
  },
  {
   "cell_type": "code",
   "execution_count": null,
   "metadata": {},
   "outputs": [],
   "source": []
  },
  {
   "cell_type": "code",
   "execution_count": null,
   "metadata": {},
   "outputs": [],
   "source": []
  },
  {
   "cell_type": "code",
   "execution_count": null,
   "metadata": {},
   "outputs": [],
   "source": []
  }
 ],
 "metadata": {
  "kernelspec": {
   "display_name": "Python 3",
   "language": "python",
   "name": "python3"
  },
  "language_info": {
   "codemirror_mode": {
    "name": "ipython",
    "version": 3
   },
   "file_extension": ".py",
   "mimetype": "text/x-python",
   "name": "python",
   "nbconvert_exporter": "python",
   "pygments_lexer": "ipython3",
   "version": "3.7.4"
  }
 },
 "nbformat": 4,
 "nbformat_minor": 2
}
