{
 "cells": [
  {
   "cell_type": "code",
   "execution_count": 1,
   "metadata": {},
   "outputs": [],
   "source": [
    "from dwave.system.samplers import DWaveSampler\n",
    "from minorminer import find_embedding\n",
    "from dwave.system.composites import FixedEmbeddingComposite\n",
    "import numpy as np"
   ]
  },
  {
   "cell_type": "code",
   "execution_count": 2,
   "metadata": {},
   "outputs": [],
   "source": [
    "solver = \"DW_2000Q_6\"\n",
    "sampler = DWaveSampler(solver=solver)\n",
    "offset0 = -0.1\n",
    "offset1 = 0.1\n",
    "tries = 100"
   ]
  },
  {
   "cell_type": "code",
   "execution_count": 3,
   "metadata": {},
   "outputs": [
    {
     "name": "stdout",
     "output_type": "stream",
     "text": [
      "[[-0.13997715  0.07961957]\n",
      " [-0.11736142  0.13677953]]\n",
      "{0: [2007], 1: [539]}\n",
      "{(0, 0): 1, (1, 1): -1}\n"
     ]
    }
   ],
   "source": [
    "qubo_dict = {(0, 0): 1, (1, 1): -1}\n",
    "qpu_graph = sampler.edgelist\n",
    "anneal_offset = np.zeros(2048)\n",
    "for _ in range(tries):\n",
    "    embedding = find_embedding(qubo_dict, qpu_graph)\n",
    "    embedding_idx = [idx for embed_list in embedding.values() for idx in embed_list]\n",
    "    embed = FixedEmbeddingComposite(sampler, embedding)\n",
    "    anneal_offset_ranges = np.array(\n",
    "        embed.properties[\"child_properties\"][\"anneal_offset_ranges\"]\n",
    "    )\n",
    "    offset_range = anneal_offset_ranges[embedding_idx]\n",
    "    range0 = offset_range[0][0] <= offset0 <= offset_range[0][1]\n",
    "    range1 = offset_range[1][0] <= offset1 <= offset_range[1][1]\n",
    "    if range0 and range1:\n",
    "        anneal_offset[embedding_idx[0]] = offset0\n",
    "        anneal_offset[embedding_idx[1]] = offset1\n",
    "        break\n",
    "print(anneal_offset_ranges[embedding_idx])\n",
    "print(embedding)\n",
    "print(qubo_dict)"
   ]
  },
  {
   "cell_type": "code",
   "execution_count": 6,
   "metadata": {},
   "outputs": [],
   "source": [
    "dwave_config = {\n",
    "    \"annealing_time\": 1,  # integer microseconds [1, 2000]\n",
    "    \"answer_mode\": \"histogram\",  # histogram or raw\n",
    "    \"auto_scale\": False,\n",
    "    \"num_reads\": 1000,  # raw will dump out all results\n",
    "    \"num_spin_reversal_transforms\": 0,\n",
    "    \"readout_thermalization\": 0,  # default 0\n",
    "    \"programming_thermalization\": 1000,  # default 1000\n",
    "    \"chain_strength\": 1,\n",
    "    \"anneal_offsets\": list(anneal_offset),\n",
    "}"
   ]
  },
  {
   "cell_type": "code",
   "execution_count": 7,
   "metadata": {},
   "outputs": [],
   "source": [
    "result = embed.sample_qubo(qubo_dict, **dwave_config)\n",
    "raw = result.to_pandas_dataframe()"
   ]
  },
  {
   "cell_type": "code",
   "execution_count": 8,
   "metadata": {},
   "outputs": [
    {
     "data": {
      "text/html": [
       "<div>\n",
       "<style scoped>\n",
       "    .dataframe tbody tr th:only-of-type {\n",
       "        vertical-align: middle;\n",
       "    }\n",
       "\n",
       "    .dataframe tbody tr th {\n",
       "        vertical-align: top;\n",
       "    }\n",
       "\n",
       "    .dataframe thead th {\n",
       "        text-align: right;\n",
       "    }\n",
       "</style>\n",
       "<table border=\"1\" class=\"dataframe\">\n",
       "  <thead>\n",
       "    <tr style=\"text-align: right;\">\n",
       "      <th></th>\n",
       "      <th>0</th>\n",
       "      <th>1</th>\n",
       "      <th>chain_break_fraction</th>\n",
       "      <th>energy</th>\n",
       "      <th>num_occurrences</th>\n",
       "    </tr>\n",
       "  </thead>\n",
       "  <tbody>\n",
       "    <tr>\n",
       "      <th>0</th>\n",
       "      <td>0</td>\n",
       "      <td>1</td>\n",
       "      <td>0.0</td>\n",
       "      <td>-1.0</td>\n",
       "      <td>996</td>\n",
       "    </tr>\n",
       "    <tr>\n",
       "      <th>1</th>\n",
       "      <td>0</td>\n",
       "      <td>0</td>\n",
       "      <td>0.0</td>\n",
       "      <td>0.0</td>\n",
       "      <td>4</td>\n",
       "    </tr>\n",
       "  </tbody>\n",
       "</table>\n",
       "</div>"
      ],
      "text/plain": [
       "   0  1  chain_break_fraction  energy  num_occurrences\n",
       "0  0  1                   0.0    -1.0              996\n",
       "1  0  0                   0.0     0.0                4"
      ]
     },
     "execution_count": 8,
     "metadata": {},
     "output_type": "execute_result"
    }
   ],
   "source": [
    "raw"
   ]
  },
  {
   "cell_type": "code",
   "execution_count": null,
   "metadata": {},
   "outputs": [],
   "source": []
  }
 ],
 "metadata": {
  "kernelspec": {
   "display_name": "Python 3",
   "language": "python",
   "name": "python3"
  },
  "language_info": {
   "codemirror_mode": {
    "name": "ipython",
    "version": 3
   },
   "file_extension": ".py",
   "mimetype": "text/x-python",
   "name": "python",
   "nbconvert_exporter": "python",
   "pygments_lexer": "ipython3",
   "version": "3.7.4"
  }
 },
 "nbformat": 4,
 "nbformat_minor": 2
}
