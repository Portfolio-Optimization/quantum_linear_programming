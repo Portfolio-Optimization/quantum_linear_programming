{
 "cells": [
  {
   "cell_type": "code",
   "execution_count": 1,
   "metadata": {},
   "outputs": [],
   "source": [
    "from dwave.system.samplers import DWaveSampler\n",
    "from minorminer import find_embedding\n",
    "from dwave.system.composites import FixedEmbeddingComposite\n",
    "import numpy as np"
   ]
  },
  {
   "cell_type": "code",
   "execution_count": 2,
   "metadata": {},
   "outputs": [],
   "source": [
    "solver = \"DW_2000Q_6\"\n",
    "sampler = DWaveSampler(solver=solver)\n",
    "\n",
    "qubo = dok_matrix([[-0.25, 1], [0, -0.25]])\n",
    "\n",
    "\n",
    "offset0 = -0.1\n",
    "offset1 = 0\n",
    "tries = 100"
   ]
  },
  {
   "cell_type": "code",
   "execution_count": 3,
   "metadata": {},
   "outputs": [
    {
     "ename": "NameError",
     "evalue": "name 'qubo_dict' is not defined",
     "output_type": "error",
     "traceback": [
      "\u001b[0;31m---------------------------------------------------------------------------\u001b[0m",
      "\u001b[0;31mNameError\u001b[0m                                 Traceback (most recent call last)",
      "\u001b[0;32m<ipython-input-3-cd5de87dc1c6>\u001b[0m in \u001b[0;36m<module>\u001b[0;34m\u001b[0m\n\u001b[1;32m      2\u001b[0m \u001b[0manneal_offset\u001b[0m \u001b[0;34m=\u001b[0m \u001b[0mnp\u001b[0m\u001b[0;34m.\u001b[0m\u001b[0mzeros\u001b[0m\u001b[0;34m(\u001b[0m\u001b[0;36m2048\u001b[0m\u001b[0;34m)\u001b[0m\u001b[0;34m\u001b[0m\u001b[0;34m\u001b[0m\u001b[0m\n\u001b[1;32m      3\u001b[0m \u001b[0;32mfor\u001b[0m \u001b[0m_\u001b[0m \u001b[0;32min\u001b[0m \u001b[0mrange\u001b[0m\u001b[0;34m(\u001b[0m\u001b[0mtries\u001b[0m\u001b[0;34m)\u001b[0m\u001b[0;34m:\u001b[0m\u001b[0;34m\u001b[0m\u001b[0;34m\u001b[0m\u001b[0m\n\u001b[0;32m----> 4\u001b[0;31m     \u001b[0membedding\u001b[0m \u001b[0;34m=\u001b[0m \u001b[0mfind_embedding\u001b[0m\u001b[0;34m(\u001b[0m\u001b[0mqubo_dict\u001b[0m\u001b[0;34m,\u001b[0m \u001b[0mqpu_graph\u001b[0m\u001b[0;34m)\u001b[0m\u001b[0;34m\u001b[0m\u001b[0;34m\u001b[0m\u001b[0m\n\u001b[0m\u001b[1;32m      5\u001b[0m     \u001b[0membedding_idx\u001b[0m \u001b[0;34m=\u001b[0m \u001b[0;34m[\u001b[0m\u001b[0midx\u001b[0m \u001b[0;32mfor\u001b[0m \u001b[0membed_list\u001b[0m \u001b[0;32min\u001b[0m \u001b[0membedding\u001b[0m\u001b[0;34m.\u001b[0m\u001b[0mvalues\u001b[0m\u001b[0;34m(\u001b[0m\u001b[0;34m)\u001b[0m \u001b[0;32mfor\u001b[0m \u001b[0midx\u001b[0m \u001b[0;32min\u001b[0m \u001b[0membed_list\u001b[0m\u001b[0;34m]\u001b[0m\u001b[0;34m\u001b[0m\u001b[0;34m\u001b[0m\u001b[0m\n\u001b[1;32m      6\u001b[0m     \u001b[0membed\u001b[0m \u001b[0;34m=\u001b[0m \u001b[0mFixedEmbeddingComposite\u001b[0m\u001b[0;34m(\u001b[0m\u001b[0msampler\u001b[0m\u001b[0;34m,\u001b[0m \u001b[0membedding\u001b[0m\u001b[0;34m)\u001b[0m\u001b[0;34m\u001b[0m\u001b[0;34m\u001b[0m\u001b[0m\n",
      "\u001b[0;31mNameError\u001b[0m: name 'qubo_dict' is not defined"
     ]
    }
   ],
   "source": [
    "qpu_graph = sampler.edgelist\n",
    "anneal_offset = np.zeros(2048)\n",
    "for _ in range(tries):\n",
    "    embedding = find_embedding(qubo_dict, qpu_graph)\n",
    "    embedding_idx = [idx for embed_list in embedding.values() for idx in embed_list]\n",
    "    embed = FixedEmbeddingComposite(sampler, embedding)\n",
    "    anneal_offset_ranges = np.array(\n",
    "        embed.properties[\"child_properties\"][\"anneal_offset_ranges\"]\n",
    "    )\n",
    "    offset_range = anneal_offset_ranges[embedding_idx]\n",
    "    range0 = offset_range[0][0] <= offset0 <= offset_range[0][1]\n",
    "    range1 = offset_range[1][0] <= offset1 <= offset_range[1][1]\n",
    "    if range0 and range1:\n",
    "        anneal_offset[embedding_idx[0]] = offset0\n",
    "        anneal_offset[embedding_idx[1]] = offset1\n",
    "        break\n",
    "print(anneal_offset_ranges[embedding_idx])\n",
    "print(embedding)\n",
    "print(qubo_dict)"
   ]
  },
  {
   "cell_type": "code",
   "execution_count": null,
   "metadata": {},
   "outputs": [],
   "source": [
    "dwave_config = {\n",
    "    \"annealing_time\": 1,  # integer microseconds [1, 2000]\n",
    "    \"answer_mode\": \"histogram\",  # histogram or raw\n",
    "    \"auto_scale\": False,\n",
    "    \"num_reads\": 1000,  # raw will dump out all results\n",
    "    \"num_spin_reversal_transforms\": 0,\n",
    "    \"readout_thermalization\": 0,  # default 0\n",
    "    \"programming_thermalization\": 1000,  # default 1000\n",
    "    \"chain_strength\": 1,\n",
    "    \"anneal_offsets\": list(anneal_offset),\n",
    "}"
   ]
  },
  {
   "cell_type": "code",
   "execution_count": null,
   "metadata": {},
   "outputs": [],
   "source": [
    "result = embed.sample_qubo(qubo_dict, **dwave_config)\n",
    "raw = result.to_pandas_dataframe()"
   ]
  },
  {
   "cell_type": "code",
   "execution_count": null,
   "metadata": {},
   "outputs": [],
   "source": [
    "raw"
   ]
  },
  {
   "cell_type": "code",
   "execution_count": null,
   "metadata": {},
   "outputs": [],
   "source": []
  }
 ],
 "metadata": {
  "kernelspec": {
   "display_name": "Python 3",
   "language": "python",
   "name": "python3"
  },
  "language_info": {
   "codemirror_mode": {
    "name": "ipython",
    "version": 3
   },
   "file_extension": ".py",
   "mimetype": "text/x-python",
   "name": "python",
   "nbconvert_exporter": "python",
   "pygments_lexer": "ipython3",
   "version": "3.8.3"
  }
 },
 "nbformat": 4,
 "nbformat_minor": 2
}
