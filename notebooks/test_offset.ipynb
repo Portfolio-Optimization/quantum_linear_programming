{
 "cells": [
  {
   "cell_type": "code",
   "execution_count": 1,
   "metadata": {},
   "outputs": [],
   "source": [
    "from dwave.system.samplers import DWaveSampler\n",
    "from minorminer import find_embedding\n",
    "from dwave.system.composites import FixedEmbeddingComposite\n",
    "import numpy as np\n",
    "from scipy.sparse import dok_matrix"
   ]
  },
  {
   "cell_type": "code",
   "execution_count": 2,
   "metadata": {},
   "outputs": [],
   "source": [
    "solver = \"DW_2000Q_6\"\n",
    "sampler = DWaveSampler(solver=solver)\n",
    "\n",
    "qubo = [[-0.25,     1],\n",
    "        [    0, -0.25]] #,\n",
    "        #[    0,     0, -0.25]]\n",
    "dok_qubo = dok_matrix(qubo)\n",
    "qubo_dict = {k: dok_qubo[k] for k in dok_qubo.keys()}\n",
    "\n",
    "offset0 = 0 #-0.05\n",
    "offset1 = -0.05\n",
    "tries = 100"
   ]
  },
  {
   "cell_type": "code",
   "execution_count": 3,
   "metadata": {},
   "outputs": [
    {
     "name": "stdout",
     "output_type": "stream",
     "text": [
      "[[-0.13342708  0.10839509]\n",
      " [-0.1388919   0.07703513]]\n",
      "{0: [1280], 1: [1408]}\n",
      "{(0, 0): -0.25, (0, 1): 1.0, (1, 1): -0.25}\n"
     ]
    }
   ],
   "source": [
    "qpu_graph = sampler.edgelist\n",
    "anneal_offset = np.zeros(2048)\n",
    "for _ in range(tries):\n",
    "    embedding = find_embedding(qubo_dict, qpu_graph)\n",
    "    embedding_idx = [idx for embed_list in embedding.values() for idx in embed_list]\n",
    "    embed = FixedEmbeddingComposite(sampler, embedding)\n",
    "    anneal_offset_ranges = np.array(\n",
    "        embed.properties[\"child_properties\"][\"anneal_offset_ranges\"]\n",
    "    )\n",
    "    offset_range = anneal_offset_ranges[embedding_idx]\n",
    "    range0 = offset_range[0][0] <= offset0 <= offset_range[0][1]\n",
    "    range1 = offset_range[1][0] <= offset1 <= offset_range[1][1]\n",
    "    if range0 and range1:\n",
    "        anneal_offset[embedding_idx[0]] = offset0\n",
    "        anneal_offset[embedding_idx[1]] = offset1\n",
    "        break\n",
    "print(anneal_offset_ranges[embedding_idx])\n",
    "print(embedding)\n",
    "print(qubo_dict)"
   ]
  },
  {
   "cell_type": "code",
   "execution_count": 4,
   "metadata": {},
   "outputs": [],
   "source": [
    "dwave_config = {\n",
    "    \"annealing_time\": 1,  # integer microseconds [1, 2000]\n",
    "    \"answer_mode\": \"histogram\",  # histogram or raw\n",
    "    \"auto_scale\": False,\n",
    "    \"num_reads\": 1000,  # raw will dump out all results\n",
    "    \"num_spin_reversal_transforms\": 0,\n",
    "    \"readout_thermalization\": 0,  # default 0\n",
    "    \"programming_thermalization\": 1000,  # default 1000\n",
    "    \"chain_strength\": 1,\n",
    "    \"anneal_offsets\": list(anneal_offset),\n",
    "}"
   ]
  },
  {
   "cell_type": "code",
   "execution_count": 5,
   "metadata": {},
   "outputs": [],
   "source": [
    "result = embed.sample_qubo(qubo_dict, **dwave_config)\n",
    "raw = result.to_pandas_dataframe()"
   ]
  },
  {
   "cell_type": "code",
   "execution_count": 6,
   "metadata": {},
   "outputs": [
    {
     "data": {
      "text/html": [
       "<div>\n",
       "<style scoped>\n",
       "    .dataframe tbody tr th:only-of-type {\n",
       "        vertical-align: middle;\n",
       "    }\n",
       "\n",
       "    .dataframe tbody tr th {\n",
       "        vertical-align: top;\n",
       "    }\n",
       "\n",
       "    .dataframe thead th {\n",
       "        text-align: right;\n",
       "    }\n",
       "</style>\n",
       "<table border=\"1\" class=\"dataframe\">\n",
       "  <thead>\n",
       "    <tr style=\"text-align: right;\">\n",
       "      <th></th>\n",
       "      <th>0</th>\n",
       "      <th>1</th>\n",
       "      <th>chain_break_fraction</th>\n",
       "      <th>energy</th>\n",
       "      <th>num_occurrences</th>\n",
       "    </tr>\n",
       "  </thead>\n",
       "  <tbody>\n",
       "    <tr>\n",
       "      <th>0</th>\n",
       "      <td>0</td>\n",
       "      <td>1</td>\n",
       "      <td>0.0</td>\n",
       "      <td>-0.25</td>\n",
       "      <td>435</td>\n",
       "    </tr>\n",
       "    <tr>\n",
       "      <th>1</th>\n",
       "      <td>1</td>\n",
       "      <td>0</td>\n",
       "      <td>0.0</td>\n",
       "      <td>-0.25</td>\n",
       "      <td>536</td>\n",
       "    </tr>\n",
       "    <tr>\n",
       "      <th>2</th>\n",
       "      <td>0</td>\n",
       "      <td>0</td>\n",
       "      <td>0.0</td>\n",
       "      <td>0.00</td>\n",
       "      <td>29</td>\n",
       "    </tr>\n",
       "  </tbody>\n",
       "</table>\n",
       "</div>"
      ],
      "text/plain": [
       "   0  1  chain_break_fraction  energy  num_occurrences\n",
       "0  0  1                   0.0   -0.25              435\n",
       "1  1  0                   0.0   -0.25              536\n",
       "2  0  0                   0.0    0.00               29"
      ]
     },
     "execution_count": 6,
     "metadata": {},
     "output_type": "execute_result"
    }
   ],
   "source": [
    "raw"
   ]
  },
  {
   "cell_type": "code",
   "execution_count": 7,
   "metadata": {},
   "outputs": [
    {
     "name": "stdout",
     "output_type": "stream",
     "text": [
      "0 (0, 0) [0 0]\n",
      "1 (0, 1) [0 1]\n",
      "2 (1, 0) [1 0]\n",
      "3 (1, 1) [1 1]\n"
     ]
    }
   ],
   "source": [
    "#basis = [(i, j, k) for i in [0, 1] for j in [0, 1] for k in [0, 1]]\n",
    "basis = [(i, j) for i in [0, 1] for j in [0, 1]]\n",
    "\n",
    "for I in range(2 ** 2):\n",
    "    dwstate = np.array([int(i) for i in '{0:02b}'.format(I)])\n",
    "    print(I, basis[I], dwstate)"
   ]
  },
  {
   "cell_type": "code",
   "execution_count": 8,
   "metadata": {},
   "outputs": [],
   "source": [
    "# Check result"
   ]
  },
  {
   "cell_type": "code",
   "execution_count": 9,
   "metadata": {},
   "outputs": [],
   "source": [
    "# evaluate the QUBO given binary vector b and return energy F\n",
    "def eval_QUBO(Q, b):\n",
    "    #F = np.dot(b, np.dot(Q, b) )\n",
    "    F = np.einsum('i,ij,j',b,Q,b)\n",
    "    return F\n",
    "\n",
    "# Convert non-negative n-bit integer to n-bit binary representation and return numpy array\n",
    "def int_to_bin(a, n):\n",
    "    l = int(a).bit_length(); # length of binary conversion\n",
    "    # Check that the bit length fits the b-bit representation\n",
    "    if l > n:\n",
    "        print(\" <<Bit length exceeds repreesntation size>>\")\n",
    "        raise ValueError\n",
    "    x = bin(int(a)); # binary converstion returns string x\n",
    "    y =x[2:l+2] # store last l chars of x in y\n",
    "    b = np.zeros(n);\n",
    "    for i in range(len(y)):\n",
    "    \tb[n-l+i] = int(y[i]); # add the bits from smallest to largest in the last l slots\n",
    "    return b\n",
    "\n",
    "# Find argument that minimizes QUBO F(b) = b^T Q b and return as numpy array\n",
    "def argmin_QUBO(Q):\n",
    "    n = len(Q);\n",
    "    bx = int_to_bin(0, n);\n",
    "    Fx = eval_QUBO(Q, bx);\n",
    "    result = []\n",
    "    for a in range(2**n): # loop over all 2^n possibilities\n",
    "        b = int_to_bin(a, n); \n",
    "        F = eval_QUBO(Q, b);\n",
    "        #print('%s  %s' %(b,F))\n",
    "        result.append([F,b])\n",
    "        if F < Fx:\n",
    "            Fx = F\n",
    "            bx = b\n",
    "    return bx,result"
   ]
  },
  {
   "cell_type": "code",
   "execution_count": 10,
   "metadata": {},
   "outputs": [],
   "source": [
    "bx, result = argmin_QUBO(qubo)\n",
    "result.sort(key=lambda x: x[0])"
   ]
  },
  {
   "cell_type": "code",
   "execution_count": 11,
   "metadata": {},
   "outputs": [
    {
     "data": {
      "text/plain": [
       "[[-0.25, array([0., 1.])],\n",
       " [-0.25, array([1., 0.])],\n",
       " [0.0, array([0., 0.])],\n",
       " [0.5, array([1., 1.])]]"
      ]
     },
     "execution_count": 11,
     "metadata": {},
     "output_type": "execute_result"
    }
   ],
   "source": [
    "result"
   ]
  },
  {
   "cell_type": "code",
   "execution_count": null,
   "metadata": {},
   "outputs": [],
   "source": []
  }
 ],
 "metadata": {
  "kernelspec": {
   "display_name": "Python 3",
   "language": "python",
   "name": "python3"
  },
  "language_info": {
   "codemirror_mode": {
    "name": "ipython",
    "version": 3
   },
   "file_extension": ".py",
   "mimetype": "text/x-python",
   "name": "python",
   "nbconvert_exporter": "python",
   "pygments_lexer": "ipython3",
   "version": "3.8.3"
  }
 },
 "nbformat": 4,
 "nbformat_minor": 2
}
