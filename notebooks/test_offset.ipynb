{
 "cells": [
  {
   "cell_type": "code",
   "execution_count": 1,
   "metadata": {},
   "outputs": [],
   "source": [
    "from dwave.system.samplers import DWaveSampler\n",
    "from minorminer import find_embedding\n",
    "from dwave.system.composites import FixedEmbeddingComposite\n",
    "import numpy as np\n",
    "from scipy.sparse import dok_matrix"
   ]
  },
  {
   "cell_type": "code",
   "execution_count": 10,
   "metadata": {},
   "outputs": [],
   "source": [
    "solver = \"DW_2000Q_6\"\n",
    "sampler = DWaveSampler(solver=solver)\n",
    "\n",
    "qubo_dict = {(0, 0): -0.25, (0, 1): 1, (1, 1): -0.25, (2, 2): -0.25}\n",
    "\n",
    "offset0 = -0.1\n",
    "offset1 = 0\n",
    "tries = 100"
   ]
  },
  {
   "cell_type": "code",
   "execution_count": 11,
   "metadata": {},
   "outputs": [
    {
     "name": "stdout",
     "output_type": "stream",
     "text": [
      "[[-0.13966355  0.11587289]\n",
      " [-0.13347227  0.13965449]\n",
      " [-0.14010183  0.04596959]]\n",
      "{0: [1523], 1: [1527], 2: [1139]}\n",
      "{(0, 0): -0.25, (0, 1): 1, (1, 1): -0.25, (2, 2): -0.25}\n"
     ]
    }
   ],
   "source": [
    "qpu_graph = sampler.edgelist\n",
    "anneal_offset = np.zeros(2048)\n",
    "for _ in range(tries):\n",
    "    embedding = find_embedding(qubo_dict, qpu_graph)\n",
    "    embedding_idx = [idx for embed_list in embedding.values() for idx in embed_list]\n",
    "    embed = FixedEmbeddingComposite(sampler, embedding)\n",
    "    anneal_offset_ranges = np.array(\n",
    "        embed.properties[\"child_properties\"][\"anneal_offset_ranges\"]\n",
    "    )\n",
    "    offset_range = anneal_offset_ranges[embedding_idx]\n",
    "    range0 = offset_range[0][0] <= offset0 <= offset_range[0][1]\n",
    "    range1 = offset_range[1][0] <= offset1 <= offset_range[1][1]\n",
    "    if range0 and range1:\n",
    "        anneal_offset[embedding_idx[0]] = offset0\n",
    "        anneal_offset[embedding_idx[1]] = offset1\n",
    "        break\n",
    "print(anneal_offset_ranges[embedding_idx])\n",
    "print(embedding)\n",
    "print(qubo_dict)"
   ]
  },
  {
   "cell_type": "code",
   "execution_count": 12,
   "metadata": {},
   "outputs": [],
   "source": [
    "dwave_config = {\n",
    "    \"annealing_time\": 10,  # integer microseconds [1, 2000]\n",
    "    \"answer_mode\": \"histogram\",  # histogram or raw\n",
    "    \"auto_scale\": False,\n",
    "    \"num_reads\": 1000,  # raw will dump out all results\n",
    "    \"num_spin_reversal_transforms\": 0,\n",
    "    \"readout_thermalization\": 0,  # default 0\n",
    "    \"programming_thermalization\": 1000,  # default 1000\n",
    "    \"chain_strength\": 1,\n",
    "    \"anneal_offsets\": list(anneal_offset),\n",
    "}"
   ]
  },
  {
   "cell_type": "code",
   "execution_count": 13,
   "metadata": {},
   "outputs": [],
   "source": [
    "result = embed.sample_qubo(qubo_dict, **dwave_config)\n",
    "raw = result.to_pandas_dataframe()"
   ]
  },
  {
   "cell_type": "code",
   "execution_count": 14,
   "metadata": {},
   "outputs": [
    {
     "data": {
      "text/html": [
       "<div>\n",
       "<style scoped>\n",
       "    .dataframe tbody tr th:only-of-type {\n",
       "        vertical-align: middle;\n",
       "    }\n",
       "\n",
       "    .dataframe tbody tr th {\n",
       "        vertical-align: top;\n",
       "    }\n",
       "\n",
       "    .dataframe thead th {\n",
       "        text-align: right;\n",
       "    }\n",
       "</style>\n",
       "<table border=\"1\" class=\"dataframe\">\n",
       "  <thead>\n",
       "    <tr style=\"text-align: right;\">\n",
       "      <th></th>\n",
       "      <th>0</th>\n",
       "      <th>1</th>\n",
       "      <th>2</th>\n",
       "      <th>chain_break_fraction</th>\n",
       "      <th>energy</th>\n",
       "      <th>num_occurrences</th>\n",
       "    </tr>\n",
       "  </thead>\n",
       "  <tbody>\n",
       "    <tr>\n",
       "      <th>0</th>\n",
       "      <td>1</td>\n",
       "      <td>0</td>\n",
       "      <td>1</td>\n",
       "      <td>0.0</td>\n",
       "      <td>-0.50</td>\n",
       "      <td>613</td>\n",
       "    </tr>\n",
       "    <tr>\n",
       "      <th>1</th>\n",
       "      <td>0</td>\n",
       "      <td>1</td>\n",
       "      <td>1</td>\n",
       "      <td>0.0</td>\n",
       "      <td>-0.50</td>\n",
       "      <td>301</td>\n",
       "    </tr>\n",
       "    <tr>\n",
       "      <th>2</th>\n",
       "      <td>0</td>\n",
       "      <td>1</td>\n",
       "      <td>0</td>\n",
       "      <td>0.0</td>\n",
       "      <td>-0.25</td>\n",
       "      <td>18</td>\n",
       "    </tr>\n",
       "    <tr>\n",
       "      <th>3</th>\n",
       "      <td>1</td>\n",
       "      <td>0</td>\n",
       "      <td>0</td>\n",
       "      <td>0.0</td>\n",
       "      <td>-0.25</td>\n",
       "      <td>30</td>\n",
       "    </tr>\n",
       "    <tr>\n",
       "      <th>4</th>\n",
       "      <td>0</td>\n",
       "      <td>0</td>\n",
       "      <td>1</td>\n",
       "      <td>0.0</td>\n",
       "      <td>-0.25</td>\n",
       "      <td>33</td>\n",
       "    </tr>\n",
       "    <tr>\n",
       "      <th>5</th>\n",
       "      <td>0</td>\n",
       "      <td>0</td>\n",
       "      <td>0</td>\n",
       "      <td>0.0</td>\n",
       "      <td>0.00</td>\n",
       "      <td>4</td>\n",
       "    </tr>\n",
       "    <tr>\n",
       "      <th>6</th>\n",
       "      <td>1</td>\n",
       "      <td>1</td>\n",
       "      <td>1</td>\n",
       "      <td>0.0</td>\n",
       "      <td>0.25</td>\n",
       "      <td>1</td>\n",
       "    </tr>\n",
       "  </tbody>\n",
       "</table>\n",
       "</div>"
      ],
      "text/plain": [
       "   0  1  2  chain_break_fraction  energy  num_occurrences\n",
       "0  1  0  1                   0.0   -0.50              613\n",
       "1  0  1  1                   0.0   -0.50              301\n",
       "2  0  1  0                   0.0   -0.25               18\n",
       "3  1  0  0                   0.0   -0.25               30\n",
       "4  0  0  1                   0.0   -0.25               33\n",
       "5  0  0  0                   0.0    0.00                4\n",
       "6  1  1  1                   0.0    0.25                1"
      ]
     },
     "execution_count": 14,
     "metadata": {},
     "output_type": "execute_result"
    }
   ],
   "source": [
    "raw"
   ]
  },
  {
   "cell_type": "code",
   "execution_count": 20,
   "metadata": {},
   "outputs": [
    {
     "name": "stdout",
     "output_type": "stream",
     "text": [
      "0 (0, 0, 0) [0 0 0 0 0]\n",
      "1 (0, 0, 1) [0 0 0 0 1]\n",
      "2 (0, 1, 0) [0 0 0 1 0]\n",
      "3 (0, 1, 1) [0 0 0 1 1]\n",
      "4 (1, 0, 0) [0 0 1 0 0]\n",
      "5 (1, 0, 1) [0 0 1 0 1]\n",
      "6 (1, 1, 0) [0 0 1 1 0]\n",
      "7 (1, 1, 1) [0 0 1 1 1]\n"
     ]
    }
   ],
   "source": [
    "basis = [(i, j, k) for i in [0, 1] for j in [0, 1] for k in [0, 1]]\n",
    "for I in range(2 ** 3):\n",
    "    dwstate = np.array([int(i) for i in '{0:05b}'.format(I)])\n",
    "    print(I, basis[I], dwstate)"
   ]
  },
  {
   "cell_type": "code",
   "execution_count": null,
   "metadata": {},
   "outputs": [],
   "source": []
  }
 ],
 "metadata": {
  "kernelspec": {
   "display_name": "Python 3",
   "language": "python",
   "name": "python3"
  },
  "language_info": {
   "codemirror_mode": {
    "name": "ipython",
    "version": 3
   },
   "file_extension": ".py",
   "mimetype": "text/x-python",
   "name": "python",
   "nbconvert_exporter": "python",
   "pygments_lexer": "ipython3",
   "version": "3.8.3"
  }
 },
 "nbformat": 4,
 "nbformat_minor": 2
}
