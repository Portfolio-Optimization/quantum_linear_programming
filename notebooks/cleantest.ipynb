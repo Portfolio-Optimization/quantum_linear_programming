{
 "cells": [
  {
   "cell_type": "code",
   "execution_count": 15,
   "metadata": {},
   "outputs": [
    {
     "name": "stdout",
     "output_type": "stream",
     "text": [
      "[1.+0.j 0.+0.j 0.+0.j 0.+0.j 0.+0.j 0.+0.j 0.+0.j 0.+0.j 0.+0.j 0.+0.j\n",
      " 0.+0.j 0.+0.j 0.+0.j 0.+0.j 0.+0.j 0.+0.j]\n",
      "[1.+0.j 0.+0.j 0.+0.j 0.+0.j 0.+0.j 0.+0.j 0.+0.j 0.+0.j 0.+0.j 0.+0.j\n",
      " 0.+0.j 0.+0.j 0.+0.j 0.+0.j 0.+0.j 0.+0.j]\n"
     ]
    },
    {
     "data": {
      "text/plain": [
       "Text(0.5, 1.0, 'Rabi check')"
      ]
     },
     "execution_count": 15,
     "metadata": {},
     "output_type": "execute_result"
    },
    {
     "data": {
      "image/png": "[encoded data removed]",
      "text/plain": [
       "<Figure size 432x288 with 1 Axes>"
      ]
     },
     "metadata": {
      "needs_background": "light"
     },
     "output_type": "display_data"
    }
   ],
   "source": [
    "import numpy as np\n",
    "from scipy.integrate import solve_ivp\n",
    "import matplotlib.pyplot as plt\n",
    "\n",
    "sigx=np.asarray([[0,1],[1,0]])\n",
    "id2=np.identity(2)\n",
    "\n",
    "\n",
    "energyscale=3.14\n",
    "H=np.kron(sigx,id2)+np.kron(id2,sigx)\n",
    "\n",
    "H=H*energyscale\n",
    "\n",
    "rho=(1+0j)*np.zeros(16)\n",
    "rho[0]=1.0\n",
    "print(rho)\n",
    "\n",
    "\n",
    "\n",
    "def apply_tdse_dense2(t,y):\n",
    "    \"\"\"Computes ``-i [H(s), rho(s)]`` for density vector ``y`` by reshaping ``y``\n",
    "    \"\"\"\n",
    "    ymat = y.reshape((4, 4))\n",
    "    ymat = -1j * (H@(ymat) - ymat@H)\n",
    "    f = ymat.reshape(16)\n",
    "    return f\n",
    "\n",
    "\n",
    "def solve_mixed(rho):\n",
    "    \"\"\"Solves the TDSE\n",
    "    \"\"\"\n",
    "    \n",
    "    sol = solve_ivp(\n",
    "        fun=apply_tdse_dense2,\n",
    "        t_span=(0,1),\n",
    "        y0=rho\n",
    "    )\n",
    "    return sol\n",
    "\n",
    "sol=solve_mixed(rho)\n",
    "print(sol.y[:,0])\n",
    "\n",
    "\n",
    "\n",
    "plt.plot(sol.t,np.absolute(sol.y[0,:]))\n",
    "plt.title(\"Rabi check\")"
   ]
  },
  {
   "cell_type": "code",
   "execution_count": null,
   "metadata": {},
   "outputs": [],
   "source": []
  }
 ],
 "metadata": {
  "kernelspec": {
   "display_name": "Python 3",
   "language": "python",
   "name": "python3"
  },
  "language_info": {
   "codemirror_mode": {
    "name": "ipython",
    "version": 3
   },
   "file_extension": ".py",
   "mimetype": "text/x-python",
   "name": "python",
   "nbconvert_exporter": "python",
   "pygments_lexer": "ipython3",
   "version": "3.7.4"
  }
 },
 "nbformat": 4,
 "nbformat_minor": 2
}
