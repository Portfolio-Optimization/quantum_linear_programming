{
 "cells": [
  {
   "cell_type": "markdown",
   "metadata": {},
   "source": [
    "# imports"
   ]
  },
  {
   "cell_type": "code",
   "execution_count": 1,
   "metadata": {},
   "outputs": [],
   "source": [
    "import os\n",
    "\n",
    "os.environ[\"DJANGO_ALLOW_ASYNC_UNSAFE\"] = \"true\"\n",
    "\n",
    "import numpy as np\n",
    "import matplotlib.pyplot as plt\n",
    "import matplotlib as mpl\n",
    "\n",
    "mpl.pyplot.ion()\n",
    "%matplotlib inline\n",
    "import pickle\n",
    "\n",
    "from qlp.mds import graph_tools as gt\n",
    "from qlp.mds.qubo import get_mds_qubo\n",
    "from qlp.mds.mds_qlpdb import QUBO_to_Ising, graph_summary\n",
    "\n",
    "from qlp.tdse import TDSE, embed_qubo_example, convert_params, add_jchaos\n",
    "\n",
    "from qlpdb.tdse.models import Tdse\n",
    "\n",
    "import time\n",
    "\n",
    "from scipy.sparse import dok_matrix\n",
    "\n",
    "from numpy.linalg import eigh\n"
   ]
  },
  {
   "cell_type": "markdown",
   "metadata": {},
   "source": [
    "# Setup"
   ]
  },
  {
   "cell_type": "markdown",
   "metadata": {},
   "source": [
    "## Set up ising model"
   ]
  },
  {
   "cell_type": "markdown",
   "metadata": {},
   "source": [
    "Computes the corresponding Ising model parameters for the QUBO\n",
    "\n",
    "**if embed is True:** \n",
    "    This embeds the QUBO into a chimera graph. Currently there is only an explicit result from G(2). I will in the future actually embed with DWave minorminer."
   ]
  },
  {
   "cell_type": "code",
   "execution_count": 2,
   "metadata": {},
   "outputs": [
    {
     "name": "stdout",
     "output_type": "stream",
     "text": [
      "  (0, 0)\t-0.25\n",
      "  (0, 1)\t1.0\n",
      "  (1, 1)\t-0.25\n",
      "[-0.125 -0.125]\n",
      "[-0.125 -0.125]\n"
     ]
    }
   ],
   "source": [
    "qubo = dok_matrix([[-0.25, 1], [0, -0.25]])\n",
    "#qubo = dok_matrix([[-0.1, 0], [0, 0]])\n",
    "#qubo = dok_matrix([[0.625, 0.0, 0.0, 2.0, -4.0], [0.0, 1.5, 0.0, -1.0, -1.0], [0.0, 0.0, 1.5, -1.0, -1.0], [0.0, 0.0, 0.0, -0.75, 0.0], [0.0, 0.0, 0.0, 0.0, 2.625]])\n",
    "\n",
    "print(qubo)\n",
    "Jij_exact, hi_exact, c = QUBO_to_Ising(qubo.todense().tolist())\n",
    "Jij = Jij_exact\n",
    "hi = hi_exact\n",
    "penalty = 0\n",
    "qubo_constant = 0\n",
    "\n",
    "graph_params = {\"total_qubits\": 2}\n",
    "#embedding = {0: [645], 1: [647, 640], 2: [641], 3: [643]}\n",
    "#hi_for_offset = np.array(\n",
    "#    [\n",
    "#        hi_exact[key]\n",
    "#        for key in np.sort(list(embedding.keys()))\n",
    "#        for count in range(len(embedding[key]))\n",
    "#    ]\n",
    "#)\n",
    "hi_for_offset = hi_exact\n",
    "print(hi_for_offset)\n",
    "print(hi_exact)"
   ]
  },
  {
   "cell_type": "markdown",
   "metadata": {},
   "source": [
    "## Anneal specific parameters"
   ]
  },
  {
   "cell_type": "markdown",
   "metadata": {},
   "source": [
    "Parameters which are related to converting physical unites to unitless units\n",
    "\n",
    "* **annealing_time:** Annealing time as defined from s = [0, 1] in microseconds\n",
    "* **normalized_time:** This is s. Set it to < 0 or > 1 if offset is used to allow for a complete annealing schedule. The total time in microseconds will increase accordingly.\n",
    "* **energyscale:** Converts units from D-Wave parameters to unitless parameters (see eq. 65 in the notes)"
   ]
  },
  {
   "cell_type": "code",
   "execution_count": 3,
   "metadata": {},
   "outputs": [
    {
     "name": "stdout",
     "output_type": "stream",
     "text": [
      "{'Jij': [[0.0, 0.25], [0.0, 0.0]], 'hi': [-0.125, -0.125], 'c': 0.0, 'Jij_exact': [[0.0, 0.25], [0.0, 0.0]], 'hi_exact': [-0.125, -0.125], 'energyscale': 1000.0, 'qubo_constant': 0, 'penalty': 0}\n"
     ]
    }
   ],
   "source": [
    "annealing_time = 1\n",
    "normalized_time = [0, 1]  # make larger range for complete offsets\n",
    "\n",
    "# assume annealing_time unit in microsecond and energy unit in Ghz\n",
    "def energyscaleconversion(annealing_time):\n",
    "    return annealing_time * 1000.0 * (2.0 * np.pi)\n",
    "\n",
    "\n",
    "energyscale = energyscaleconversion(annealing_time)\n",
    "ising_params = {\n",
    "    \"Jij\": [list(row) for row in Jij],\n",
    "    \"hi\": list(hi),\n",
    "    \"c\": c,\n",
    "    \"Jij_exact\": [list(row) for row in Jij_exact],\n",
    "    \"hi_exact\": list(hi_exact),\n",
    "    \"energyscale\": energyscale,\n",
    "    \"qubo_constant\": qubo_constant,\n",
    "    \"penalty\": penalty,\n",
    "}\n",
    "print(ising_params)"
   ]
  },
  {
   "cell_type": "markdown",
   "metadata": {},
   "source": [
    "## Anneal curve specific parameters"
   ]
  },
  {
   "cell_type": "markdown",
   "metadata": {},
   "source": [
    "Parameters which specify how the anneal curve is realized:\n",
    "\n",
    "* **offset:** This is a string argument to the fcn method of the class AnnealOffset in qlp.mds.mds_qlpdb. Define your own anneal offset routine here or call\n",
    "an existing one. E-mail me if you need more explanation.\n",
    "* **offset_min, offset_range:** Argument to AnnealOffset class. Specify offset boundaries and are set later in a loop.\n",
    "* **anneal_curve:** The realized curve. Currently implemented are linear, logistic and d-wave.\n",
    "* **fill_value:** If normalized_time is extended beyond (0, 1), this option decides whether to extrapolate the anneal schedule, or truncate it at the nearest value."
   ]
  },
  {
   "cell_type": "code",
   "execution_count": 4,
   "metadata": {},
   "outputs": [],
   "source": [
    "offset = \"test0\"\n",
    "anneal_curve = \"dwave\"\n",
    "fill_value = \"extrapolate\""
   ]
  },
  {
   "cell_type": "markdown",
   "metadata": {},
   "source": [
    "## Parameters for numerical solve of ODE"
   ]
  },
  {
   "cell_type": "markdown",
   "metadata": {},
   "source": [
    "Parameters to solve the ODE. See also `scipy.integrate.solve_ivp`."
   ]
  },
  {
   "cell_type": "code",
   "execution_count": 5,
   "metadata": {},
   "outputs": [],
   "source": [
    "solver_params = dict()\n",
    "solver_params[\"method\"] = \"RK45\"\n",
    "solver_params[\"rtol\"] = 1e-7\n",
    "solver_params[\"atol\"] = 1e-8"
   ]
  },
  {
   "cell_type": "markdown",
   "metadata": {},
   "source": [
    "## System parameters"
   ]
  },
  {
   "cell_type": "markdown",
   "metadata": {},
   "source": [
    "Parameters used to specify the initial conditions of the system:\n",
    "\n",
    "* **pure_tdse:** This is a boolean (True / False) flag and runs the pure state solver.\n",
    "* **mixed_tdse:** This boolean flag runs the mixed state solver.\n",
    "* **temp:** This sets the temperature for the mixed state solver in kelvins.\n",
    "* **initial_wavefunction:** For the pure state solver, the initial wavefunc- tion can be chosen to be the ground state of ∑σx (transverse) or H(0)(real). For the DWave anneal schedule, or when annealing offsets are used without extended annealing times, these two options are not the same. Can be \"true\" or \"transverse\".\n"
   ]
  },
  {
   "cell_type": "code",
   "execution_count": 6,
   "metadata": {},
   "outputs": [],
   "source": [
    "initial_wavefunction = \"transverse\"\n",
    "\n",
    "temp = 0.015\n",
    "temp_local = 0.015\n",
    "gamma = 1/0.5 # 1/ns for full counting statistics\n",
    "gamma_local = 0 #1/10 # for local decoherence"
   ]
  },
  {
   "cell_type": "markdown",
   "metadata": {},
   "source": [
    "## Output parameters"
   ]
  },
  {
   "cell_type": "markdown",
   "metadata": {},
   "source": [
    "Parameters used for visializing results:\n",
    "* **degeneracy_tol:** This sets the numerical tolerance as to when an excited- state is labeled as degenerate to the ground state. This is important for graphs with degenerate ground states.\n",
    "* **debug:** Write more output during computations.\n",
    "* **save_result:** Store results to pickle files. "
   ]
  },
  {
   "cell_type": "code",
   "execution_count": 7,
   "metadata": {},
   "outputs": [],
   "source": [
    "degeneracy_tol = 2e-2\n",
    "debug = True"
   ]
  },
  {
   "cell_type": "markdown",
   "metadata": {},
   "source": [
    "# Run computations"
   ]
  },
  {
   "cell_type": "markdown",
   "metadata": {},
   "source": [
    "In this section we run over different anneal time offsets"
   ]
  },
  {
   "cell_type": "code",
   "execution_count": 8,
   "metadata": {
    "scrolled": false
   },
   "outputs": [
    {
     "name": "stdout",
     "output_type": "stream",
     "text": [
      "offset -0.05\n",
      "From find offset\n",
      "[-0.05, 0]\n",
      "anneal schedule from ./09-1216A-A_DW_2000Q_6_annealing_schedule.xlsx\n"
     ]
    },
    {
     "data": {
      "image/png": "[encoded data removed]",
      "text/plain": [
       "<Figure size 432x288 with 1 Axes>"
      ]
     },
     "metadata": {
      "needs_background": "light"
     },
     "output_type": "display_data"
    },
    {
     "name": "stdout",
     "output_type": "stream",
     "text": [
      "Ising ground state energy: -2.993432715070859\n",
      "Ising ground state\n",
      "2\n",
      "00010\n",
      "Ising ground state energy: -2.8514371276260775\n",
      "Ising ground state\n",
      "1\n",
      "00001\n",
      "abac->bc\n",
      "entropy param 1 abac->bc\n",
      "dE [ 0.         19.931758   21.60123128 41.53298928]\n",
      "pr [9.99944202e-01 3.90910888e-05 1.67060821e-05 6.53095382e-10] total 1.0\n",
      "Initial wavefunction: [0.25      +0.j 0.24998045+0.j 0.24999165+0.j 0.2499721 +0.j\n",
      " 0.24998045+0.j 0.25      +0.j 0.2499721 +0.j 0.24999165+0.j\n",
      " 0.24999165+0.j 0.2499721 +0.j 0.25      +0.j 0.24998045+0.j\n",
      " 0.2499721 +0.j 0.24999165+0.j 0.24998045+0.j 0.25      +0.j]\n",
      "Final Hamiltonian\n",
      "[[-8.62284929e-01 -1.90380500e-04 -8.40137186e-04  0.00000000e+00]\n",
      " [-1.90380500e-04 -2.85143713e+03  0.00000000e+00 -8.40137186e-04]\n",
      " [-8.40137186e-04  0.00000000e+00 -2.99343272e+03 -1.90380500e-04]\n",
      " [ 0.00000000e+00 -8.40137186e-04 -1.90380500e-04  5.84573213e+03]]\n",
      "Num. degenerate states @ s=1: 1\n",
      "Mixed Final Prob: 0.45456485307394867\n",
      "hi is [-0.125, -0.125]\n",
      "final state 10\n",
      "distribution probability\n",
      "[(0, 0), (0, 1), (1, 0), (1, 1)]\n",
      "[0.12767308 0.40626763 0.45456485 0.01149444]\n"
     ]
    },
    {
     "data": {
      "image/png": "[encoded data removed]",
      "text/plain": [
       "<Figure size 432x288 with 1 Axes>"
      ]
     },
     "metadata": {
      "needs_background": "light"
     },
     "output_type": "display_data"
    },
    {
     "data": {
      "image/png": "[encoded data removed]",
      "text/plain": [
       "<Figure size 432x288 with 1 Axes>"
      ]
     },
     "metadata": {
      "needs_background": "light"
     },
     "output_type": "display_data"
    },
    {
     "data": {
      "image/png": "[encoded data removed]",
      "text/plain": [
       "<Figure size 432x288 with 1 Axes>"
      ]
     },
     "metadata": {
      "needs_background": "light"
     },
     "output_type": "display_data"
    },
    {
     "data": {
      "image/png": "[encoded data removed]",
      "text/plain": [
       "<Figure size 432x288 with 1 Axes>"
      ]
     },
     "metadata": {
      "needs_background": "light"
     },
     "output_type": "display_data"
    },
    {
     "data": {
      "image/png": "[encoded data removed]",
      "text/plain": [
       "<Figure size 432x288 with 1 Axes>"
      ]
     },
     "metadata": {
      "needs_background": "light"
     },
     "output_type": "display_data"
    }
   ],
   "source": [
    "#%%timeit -n 1 -r 1\n",
    "\n",
    "# brute force solving time-dependent schrodinger equation to simulate quantum annealing for small systems\n",
    "result = dict()\n",
    "offset_min_list = [-0.05]\n",
    "Aoffset = 0\n",
    "\n",
    "for offset_min in offset_min_list:\n",
    "    print(\"offset\", offset_min)\n",
    "    offset_min = offset_min\n",
    "    offset_range = 2 * abs(offset_min)\n",
    "\n",
    "    offset_params = {\n",
    "        \"annealing_time\": annealing_time,\n",
    "        \"normalized_time\": normalized_time,\n",
    "        \"offset\": offset,\n",
    "        \"hi_for_offset\": hi_for_offset,\n",
    "        \"embedding\": None,\n",
    "        \"offset_min\": offset_min,\n",
    "        \"offset_range\": offset_range,\n",
    "        \"fill_value\": fill_value,\n",
    "        \"anneal_curve\": anneal_curve,\n",
    "        \"Aoffset\": Aoffset\n",
    "    }\n",
    "\n",
    "    # instantiate ode solver\n",
    "    tdse = TDSE(graph_params, ising_params, offset_params, solver_params)\n",
    "    \n",
    "    # plot anneal schedule\n",
    "    tdse.AS.plot(normalized_time)\n",
    "    \n",
    "    val,vec=np.linalg.eigh(tdse.IsingH.todense())\n",
    "    print('Ising ground state energy:',val[0])\n",
    "    print('Ising ground state')\n",
    "    #print(vec[:,0])\n",
    "    I=int(np.argmax(vec[:,0]))\n",
    "    print(I)\n",
    "    print('{0:05b}'.format(I))\n",
    "    print('Ising ground state energy:',val[1])\n",
    "    print('Ising ground state')\n",
    "    #print(vec[:,1])\n",
    "    I=int(np.argmax(vec[:,1]))\n",
    "    print(I)\n",
    "    print('{0:05b}'.format(I))\n",
    "    \n",
    "    # get offset list to get partition for entanglement entropy\n",
    "    nA, indicesA = tdse.find_partition()\n",
    "    print(\"entropy param\",nA,indicesA)\n",
    "    reg = 1e-10\n",
    "    entropy_params = {\"nA\": nA, \"indicesA\": indicesA, \"reg\": reg}\n",
    "    \n",
    "    ############################################################\n",
    "    ###### code block for thermal mixed state simultation ######\n",
    "    ############################################################\n",
    "    wave_params = dict()\n",
    "    wave_params[\"type\"] = \"mixed\"\n",
    "    wave_params[\"temp\"] = temp\n",
    "    wave_params[\"temp_local\"] = temp_local\n",
    "    wave_params[\"gamma\"] = gamma\n",
    "    wave_params[\"gamma_local\"] = gamma_local\n",
    "    wave_params[\"initial_wavefunction\"] = initial_wavefunction\n",
    "\n",
    "    # initial density matrix\n",
    "    rho = tdse.init_densitymatrix(temp, temp_local, initial_wavefunction, debug=debug)\n",
    "    rhodim=int(np.sqrt(len(rho)))\n",
    "    tdse.gamma=gamma\n",
    "    tdse.gamma_local=gamma_local\n",
    "    print(\"Initial wavefunction:\", rho)\n",
    "    \n",
    "    ######################\n",
    "    ##### solve TDSE #####\n",
    "    ######################\n",
    "    sol_densitymatrix = tdse.solve_mixed(rho)\n",
    "\n",
    "    \n",
    "    ###########################\n",
    "    ##### compile results #####\n",
    "    ###########################\n",
    "    # print final Hamiltonian with offset\n",
    "    print(\"Final Hamiltonian\")\n",
    "    print(tdse.annealingH(1).todense().real)\n",
    "    \n",
    "    # overlap with Ising ground state\n",
    "    gs_idx, Isingenergy, Isingeigv = tdse.ground_state_degeneracy(\n",
    "        tdse.IsingH_exact, degeneracy_tol, debug=debug\n",
    "    )\n",
    "    project = sum(\n",
    "        [\n",
    "            np.kron(Isingeigv[:, idx], np.conj(Isingeigv[:, idx]))\n",
    "            for idx in gs_idx\n",
    "        ]\n",
    "    )\n",
    "    prob = np.asarray(\n",
    "        [\n",
    "            np.absolute((np.dot(np.conj(project), sol_densitymatrix.y[:, i])))\n",
    "            for i in range(sol_densitymatrix.t.size)\n",
    "        ]\n",
    "    )\n",
    "    totalprob = np.asarray(\n",
    "        [\n",
    "            np.absolute((np.trace(sol_densitymatrix.y[:, i].reshape((rhodim,rhodim)))))\n",
    "            for i in range(sol_densitymatrix.t.size)\n",
    "        ]\n",
    "    )\n",
    "\n",
    "    # calculate entanglement entropy\n",
    "    sol = sol_densitymatrix\n",
    "    time = sol_densitymatrix.t\n",
    "    entropy = np.asarray(\n",
    "        [\n",
    "            tdse.ent_entropy(sol.y[:, i], **entropy_params)\n",
    "            for i in range(sol.t.size)\n",
    "        ]\n",
    "    ).real\n",
    "    # plot entropy\n",
    "    plt.figure(\"mixed entropy\")\n",
    "    plt.plot(time, entropy)\n",
    "    plt.legend([\"ent entropy\"])\n",
    "    plt.title(\"mixed ent entropy\")\n",
    "\n",
    "    # plot overlap with Ising g.s.\n",
    "    plt.figure(\"mixed prob\")\n",
    "    plt.plot(time, prob)\n",
    "    plt.title(\"mixed probability\")\n",
    "    print(f\"Mixed Final Prob: {prob[-1]}\")\n",
    "    \n",
    "    # plot total probability.\n",
    "    plt.figure(\"total prob\")\n",
    "    plt.plot(time, totalprob)\n",
    "    plt.title(\"total probability\")\n",
    "\n",
    "    # check decoherence\n",
    "    print(\"hi is\",tdse.ising[\"hi\"])\n",
    "    finalstate=np.argmax(np.diagonal(sol_densitymatrix.y[:, -1].reshape((rhodim,rhodim))).real)\n",
    "    print(\"final state\",('{0:0'+str(len(tdse.ising[\"hi\"]))+'b}').format(finalstate))\n",
    "    \n",
    "    # check distribution\n",
    "    plt.figure(\"distribution\")\n",
    "    plt.plot(np.linspace(0,rhodim-1,rhodim), np.diagonal(sol_densitymatrix.y[:, -1].reshape((rhodim,rhodim))).real)\n",
    "    plt.title(\"distribution\")\n",
    "    print(\"distribution probability\")\n",
    "    print([tuple([int(q) for q in list(format(i, '02b'))]) for i in range(2 ** 2)])\n",
    "    print(np.diagonal(sol_densitymatrix.y[:, -1].reshape((rhodim,rhodim))).real)\n",
    "    # plot spectrum\n",
    "    num_es = 4\n",
    "    x = []\n",
    "    y = {es: [] for es in range(num_es)}\n",
    "    V = []\n",
    "    tdse.ising[\"energyscale\"] = 1 # Hamiltonian = 1 ns^-1\n",
    "    for s in np.linspace(0, 1, 100):\n",
    "        eigval, eigvec = eigh((tdse.annealingH(s)).toarray())\n",
    "        x.append(s)\n",
    "        for es in y.keys():\n",
    "            y[es].append(eigval[es])\n",
    "    \n",
    "    fig = plt.figure()\n",
    "    ax = plt.axes([0.15, 0.15, 0.8, 0.8])\n",
    "    for idx, es in enumerate(y.keys()):\n",
    "        ax.errorbar(x=x, y=y[es], color='k', ls='-')"
   ]
  },
  {
   "cell_type": "code",
   "execution_count": null,
   "metadata": {},
   "outputs": [],
   "source": []
  }
 ],
 "metadata": {
  "kernelspec": {
   "display_name": "Python 3",
   "language": "python",
   "name": "python3"
  },
  "language_info": {
   "codemirror_mode": {
    "name": "ipython",
    "version": 3
   },
   "file_extension": ".py",
   "mimetype": "text/x-python",
   "name": "python",
   "nbconvert_exporter": "python",
   "pygments_lexer": "ipython3",
   "version": "3.8.3"
  }
 },
 "nbformat": 4,
 "nbformat_minor": 2
}
