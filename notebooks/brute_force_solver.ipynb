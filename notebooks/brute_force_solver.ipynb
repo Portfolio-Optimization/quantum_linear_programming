{
 "cells": [
  {
   "cell_type": "code",
   "execution_count": 7,
   "metadata": {},
   "outputs": [],
   "source": [
    "import numpy as np\n",
    "import qlp.mds.transformation as transform\n"
   ]
  },
  {
   "cell_type": "code",
   "execution_count": 8,
   "metadata": {},
   "outputs": [],
   "source": [
    "# evaluate the QUBO given binary vector b and return energy F\n",
    "def eval_QUBO(Q, b):\n",
    "    #F = np.dot(b, np.dot(Q, b) )\n",
    "    F = np.einsum('i,ij,j',b,Q,b)\n",
    "    return F\n",
    "\n",
    "# Convert non-negative n-bit integer to n-bit binary representation and return numpy array\n",
    "def int_to_bin(a, n):\n",
    "    l = int(a).bit_length(); # length of binary conversion\n",
    "    # Check that the bit length fits the b-bit representation\n",
    "    if l > n:\n",
    "        print(\" <<Bit length exceeds repreesntation size>>\")\n",
    "        raise ValueError\n",
    "    x = bin(int(a)); # binary converstion returns string x\n",
    "    y =x[2:l+2] # store last l chars of x in y\n",
    "    b = np.zeros(n);\n",
    "    for i in range(len(y)):\n",
    "    \tb[n-l+i] = int(y[i]); # add the bits from smallest to largest in the last l slots\n",
    "    return b\n",
    "\n",
    "# Find argument that minimizes QUBO F(b) = b^T Q b and return as numpy array\n",
    "def argmin_QUBO(Q):\n",
    "    n = len(Q);\n",
    "    bx = int_to_bin(0, n);\n",
    "    Fx = eval_QUBO(Q, bx);\n",
    "    result = []\n",
    "    for a in range(2**n): # loop over all 2^n possibilities\n",
    "        b = int_to_bin(a, n); \n",
    "        F = eval_QUBO(Q, b);\n",
    "        #print('%s  %s' %(b,F))\n",
    "        result.append([F,b])\n",
    "        if F < Fx:\n",
    "            Fx = F\n",
    "            bx = b\n",
    "    return bx,result"
   ]
  },
  {
   "cell_type": "code",
   "execution_count": 95,
   "metadata": {},
   "outputs": [],
   "source": [
    "# Dwave assume Ising\n",
    "h = np.array([-3.0, 10.5, 2.5, 6.0, 6.0])\n",
    "J = np.array([[ 0,  0,  8, -4, -4],\n",
    "     [ 0,  0,-16, -4, -4],\n",
    "     [ 0,  0,  0,  0,  0],\n",
    "     [ 0,  0,  0,  0,  0],\n",
    "     [ 0,  0,  0,  0,  0]])"
   ]
  },
  {
   "cell_type": "code",
   "execution_count": 96,
   "metadata": {
    "scrolled": true
   },
   "outputs": [
    {
     "data": {
      "text/plain": [
       "array([[ -6.,   0.,  32., -16., -16.],\n",
       "       [  0.,  69., -64., -16., -16.],\n",
       "       [  0.,   0.,  21.,   0.,   0.],\n",
       "       [  0.,   0.,   0.,  28.,   0.],\n",
       "       [  0.,   0.,   0.,   0.,  28.]])"
      ]
     },
     "execution_count": 96,
     "metadata": {},
     "output_type": "execute_result"
    }
   ],
   "source": [
    "Q = transform.Ising_to_QUBO(J, h)\n",
    "Q"
   ]
  },
  {
   "cell_type": "code",
   "execution_count": 154,
   "metadata": {},
   "outputs": [
    {
     "name": "stdout",
     "output_type": "stream",
     "text": [
      "[[ 0.  0.  0.  2. -4.]\n",
      " [ 0.  0.  0. -1. -1.]\n",
      " [ 0.  0.  0. -1. -1.]\n",
      " [ 0.  0.  0.  0.  0.]\n",
      " [ 0.  0.  0.  0.  0.]] [-0.75  1.    1.   -1.5  -0.75]\n"
     ]
    }
   ],
   "source": [
    "# DWave assume QUBO\n",
    "Q = [[2.5, 0.0, 0.0, 8.0, -16.0], [0.0, 6.0, 0.0, -4.0, -4.0], [0.0, 0.0, 6.0, -4.0, -4.0], [0.0, 0.0, 0.0, -3.0, 0.0], [0.0, 0.0, 0.0, 0.0, 10.5]]\n",
    "J, h, _ = transform.QUBO_to_Ising(Q)\n",
    "print(J, h)"
   ]
  },
  {
   "cell_type": "code",
   "execution_count": 137,
   "metadata": {},
   "outputs": [],
   "source": [
    "# Hand craft\n",
    "Q = [[-3.0, 8.0, -4.0, -4.0], [0.0, -3.0, -4.0, -4.0], [0.0, 0.0, 6.0, 0.0], [0.0, 0.0, 0.0, 6.0]]"
   ]
  },
  {
   "cell_type": "code",
   "execution_count": 146,
   "metadata": {},
   "outputs": [],
   "source": [
    "bx, result = argmin_QUBO(Q)"
   ]
  },
  {
   "cell_type": "code",
   "execution_count": 147,
   "metadata": {},
   "outputs": [],
   "source": [
    "result.sort(key=lambda x: x[0])"
   ]
  },
  {
   "cell_type": "code",
   "execution_count": 148,
   "metadata": {},
   "outputs": [
    {
     "data": {
      "text/plain": [
       "[[-2.0, array([0., 0., 0., 1., 0.])],\n",
       " [-2.0, array([1., 0., 0., 0., 1.])],\n",
       " [-1.3333333333333321, array([1., 1., 1., 1., 1.])],\n",
       " [-0.6666666666666665, array([0., 0., 1., 1., 0.])],\n",
       " [-0.6666666666666665, array([0., 1., 0., 1., 0.])],\n",
       " [-0.6666666666666661, array([1., 0., 1., 0., 1.])],\n",
       " [-0.6666666666666661, array([1., 1., 0., 0., 1.])],\n",
       " [0.0, array([0., 0., 0., 0., 0.])],\n",
       " [8.881784197001252e-16, array([1., 0., 1., 1., 1.])],\n",
       " [8.881784197001252e-16, array([1., 1., 0., 1., 1.])],\n",
       " [0.6666666666666674, array([0., 1., 1., 1., 0.])],\n",
       " [0.6666666666666679, array([1., 1., 1., 0., 1.])],\n",
       " [1.333333333333334, array([1., 0., 0., 1., 1.])],\n",
       " [1.6666666666666667, array([1., 0., 0., 0., 0.])],\n",
       " [2.333333333333334, array([0., 1., 1., 1., 1.])],\n",
       " [3.666666666666667, array([0., 0., 1., 1., 1.])],\n",
       " [3.666666666666667, array([0., 1., 0., 1., 1.])],\n",
       " [4.0, array([0., 0., 1., 0., 0.])],\n",
       " [4.0, array([0., 1., 0., 0., 0.])],\n",
       " [5.0, array([0., 0., 0., 1., 1.])],\n",
       " [5.0, array([1., 0., 0., 1., 0.])],\n",
       " [5.666666666666667, array([1., 0., 1., 0., 0.])],\n",
       " [5.666666666666667, array([1., 1., 0., 0., 0.])],\n",
       " [6.333333333333334, array([1., 0., 1., 1., 0.])],\n",
       " [6.333333333333334, array([1., 1., 0., 1., 0.])],\n",
       " [7.0, array([0., 0., 0., 0., 1.])],\n",
       " [7.666666666666668, array([1., 1., 1., 1., 0.])],\n",
       " [8.0, array([0., 1., 1., 0., 0.])],\n",
       " [8.333333333333334, array([0., 0., 1., 0., 1.])],\n",
       " [8.333333333333334, array([0., 1., 0., 0., 1.])],\n",
       " [9.666666666666668, array([0., 1., 1., 0., 1.])],\n",
       " [9.666666666666668, array([1., 1., 1., 0., 0.])]]"
      ]
     },
     "execution_count": 148,
     "metadata": {},
     "output_type": "execute_result"
    }
   ],
   "source": [
    "result"
   ]
  },
  {
   "cell_type": "code",
   "execution_count": null,
   "metadata": {},
   "outputs": [],
   "source": []
  }
 ],
 "metadata": {
  "kernelspec": {
   "display_name": "Python 3",
   "language": "python",
   "name": "python3"
  },
  "language_info": {
   "codemirror_mode": {
    "name": "ipython",
    "version": 3
   },
   "file_extension": ".py",
   "mimetype": "text/x-python",
   "name": "python",
   "nbconvert_exporter": "python",
   "pygments_lexer": "ipython3",
   "version": "3.8.3"
  }
 },
 "nbformat": 4,
 "nbformat_minor": 4
}
