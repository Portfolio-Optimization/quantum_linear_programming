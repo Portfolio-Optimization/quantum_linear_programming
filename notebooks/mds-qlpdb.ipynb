{
 "cells": [
  {
   "cell_type": "markdown",
   "metadata": {
    "collapsed": true
   },
   "source": [
    "# dominating set\n",
    "\n",
    "Set up calculations and store in EspressoDB"
   ]
  },
  {
   "cell_type": "code",
   "execution_count": 1,
   "metadata": {},
   "outputs": [],
   "source": [
    "import matplotlib.pylab as plt\n",
    "import seaborn as sns\n",
    "import os\n",
    "\n",
    "os.environ[\"DJANGO_ALLOW_ASYNC_UNSAFE\"] = \"true\"\n",
    "import numpy as np\n",
    "import pandas as pd\n",
    "\n",
    "from qlp.mds import graph_tools as gt\n",
    "from qlp.mds.qubo import get_mds_qubo\n",
    "from qlp.mds.solver import classical_search\n",
    "from qlp.mds.mds_qlpdb import (\n",
    "    graph_summary,\n",
    "    experiment_summary,\n",
    "    data_summary,\n",
    "    insert_result,\n",
    "    QUBO_to_Ising,\n",
    "    retry_embedding,\n",
    "    find_offset,\n",
    "    AnnealOffset,\n",
    "    plot_anneal_offset,\n",
    ")\n",
    "\n",
    "import networkx as nx\n",
    "from networkx import Graph\n",
    "from networkx.drawing.nx_pylab import draw\n",
    "from networkx.algorithms.approximation import min_weighted_dominating_set\n",
    "from networkx.algorithms.dominating import dominating_set\n",
    "\n",
    "from dwave.system.samplers import DWaveSampler\n",
    "from minorminer import find_embedding\n",
    "from dwave.system.composites import EmbeddingComposite, FixedEmbeddingComposite"
   ]
  },
  {
   "cell_type": "code",
   "execution_count": 2,
   "metadata": {},
   "outputs": [],
   "source": [
    "# plot anneal offset ranges\n",
    "#solver = \"DW_2000Q_5\"\n",
    "#sampler = DWaveSampler(solver=solver)\n",
    "#plot_anneal_offset(sampler)"
   ]
  },
  {
   "cell_type": "code",
   "execution_count": 3,
   "metadata": {
    "scrolled": false
   },
   "outputs": [
    {
     "name": "stdout",
     "output_type": "stream",
     "text": [
      "spin reversal: 0\n"
     ]
    },
    {
     "data": {
      "image/png": "[encoded data removed]",
      "text/plain": [
       "<Figure size 432x288 with 1 Axes>"
      ]
     },
     "metadata": {},
     "output_type": "display_data"
    },
    {
     "name": "stdout",
     "output_type": "stream",
     "text": [
      "{'tag': 'NN(2)', 'total_vertices': 2, 'total_edges': 1, 'total_qubits': 4, 'max_edges': 1, 'adjacency': [[0, 1]], 'adjacency_hash': '2864ee150babb3f03de5e76a1733df4b'}\n",
      "Greedy solution\n",
      " {0}\n",
      "0.5\n",
      "0.375\n",
      "Solving 1/5{(0, 0): -0.75, (0, 1): 2.0, (1, 1): -0.75, (0, 2): -1.0, (1, 2): -1.0, (2, 2): 1.5, (0, 3): -1.0, (1, 3): -1.0, (3, 3): 1.5}\n",
      "{'anneal_offsets': ['parameters'], 'anneal_schedule': ['parameters'], 'annealing_time': ['parameters'], 'answer_mode': ['parameters'], 'auto_scale': ['parameters'], 'beta': ['parameters'], 'chains': ['parameters'], 'flux_biases': ['parameters'], 'flux_drift_compensation': ['parameters'], 'h_gain_schedule': ['parameters'], 'initial_state': ['parameters'], 'max_answers': ['parameters'], 'num_reads': ['parameters'], 'num_spin_reversal_transforms': ['parameters'], 'postprocess': ['parameters'], 'programming_thermalization': ['parameters'], 'readout_thermalization': ['parameters'], 'reduce_intersample_correlation': ['parameters'], 'reinitialize_state': ['parameters'], 'warnings': [], 'chain_strength': [], 'chain_break_method': [], 'chain_break_fraction': [], 'embedding_parameters': [], 'return_embedding': []}\n",
      "{0: [1259], 1: [1258, 1263], 2: [1261], 3: [1260]}\n",
      "[ 0.375  0.375 -0.25  -0.25 ]\n",
      "[[ 0.    0.5  -0.25 -0.25]\n",
      " [ 0.    0.   -0.25 -0.25]\n",
      " [ 0.    0.    0.    0.  ]\n",
      " [ 0.    0.    0.    0.  ]]\n",
      "1.0\n"
     ]
    },
    {
     "ename": "SystemExit",
     "evalue": "",
     "output_type": "error",
     "traceback": [
      "An exception has occurred, use %tb to see the full traceback.\n",
      "\u001b[0;31mSystemExit\u001b[0m\n"
     ]
    },
    {
     "name": "stderr",
     "output_type": "stream",
     "text": [
      "/Users/metafalass/anaconda3/envs/quantum_linear_programming/lib/python3.8/site-packages/IPython/core/interactiveshell.py:3351: UserWarning: To exit: use 'exit', 'quit', or Ctrl-D.\n",
      "  warn(\"To exit: use 'exit', 'quit', or Ctrl-D.\", stacklevel=1)\n"
     ]
    }
   ],
   "source": [
    "# Define Adjacency matrix\n",
    "# graph, tag = gt.generate_nn_graph(v)\n",
    "# graph, tag = gt.generate_hamming_graph(d, v)\n",
    "# graph, tag = gt.generate_bipartite_graph(p, q)\n",
    "# graph, tag = gt.generate_newman_watts_strogatz_graph(v, n, p)\n",
    "# graph, tag = gt.generate_corona_graph(k, n)\n",
    "\n",
    "# Define anneal offset\n",
    "# \"constant\": no offset\n",
    "# \"linear\": linear with respect to |h|\n",
    "\n",
    "#for offsetx in [0.0, 0.01, 0.02, 0.03, 0.04, 0.05, 0.06, 0.07, 0.08, 0.09, 0.10]:\n",
    "for _ in range(5): # global for loop cycle to average over any time dependence due to how the for loop is set up\n",
    "    for pmin in [-0.05, -0.04, -0.03, -0.02, -0.01, 0.0]:\n",
    "        for offtype in [\"binary\"]:\n",
    "            for nvertices in range(2, 3):\n",
    "                for at in [1]:\n",
    "                    for srt in [0]:\n",
    "                        print(\"spin reversal:\", srt)\n",
    "                        \"\"\"User defined inputs\"\"\"\n",
    "                        # Define graph\n",
    "                        #graph, tag = gt.generate_limited_corona_graph(2, nvertices)\n",
    "                        graph, tag = gt.generate_nn_graph(nvertices)\n",
    "                        penalty = 2\n",
    "                        # Embedding retries\n",
    "                        retries = 100000\n",
    "                        # Set functional form of anneal offset\n",
    "                        target_min = -0.05\n",
    "                        target_range = 0.10\n",
    "                        problem_min = pmin\n",
    "                        problem_range = 2*abs(pmin)\n",
    "                        #problem_range = abs(pmin)\n",
    "                        # DWave parameters\n",
    "                        annealing_time = at  # integer microseconds [1, 2000] #OPTIMIZED\n",
    "                        answer_mode = \"raw\"  # histogram or raw\n",
    "                        auto_scale = False\n",
    "                        num_reads = 1000  # raw will dump out all results\n",
    "                        num_spin_reversal_transforms = srt # OPTIMIZED\n",
    "                        readout_thermalization = 0  # default 0\n",
    "                        programming_thermalization = 1000  # default 1000\n",
    "                        # Iterate for more statistics\n",
    "                        iterations = 5\n",
    "                        insertdb = True\n",
    "    \n",
    "                        \"\"\"Start program\"\"\"\n",
    "                        # get qubo\n",
    "                        directed = False\n",
    "                        qubo = get_mds_qubo(\n",
    "                            graph, directed=directed, penalty=penalty, triangularize=True, dtype=\"d\"\n",
    "                        )\n",
    "                        qubo = qubo/4\n",
    "                        q_min = np.array(list(qubo.values())).min()\n",
    "                        graph_params = graph_summary(tag, graph, qubo)\n",
    "                        offsetcls = AnnealOffset(offtype, graph_params=graph_params)\n",
    "                        # plot graph\n",
    "                        gt.get_plot(graph, directed=directed)\n",
    "                        plt.show()\n",
    "                        graph_params = graph_summary(tag, graph, qubo)\n",
    "                        print(graph_params)\n",
    "    \n",
    "                        # greedy solution\n",
    "                        G = nx.Graph()\n",
    "                        G.add_edges_from(graph)\n",
    "                        print(\"Greedy solution\\n\", dominating_set(G))\n",
    "    \n",
    "                        # convert to Ising\n",
    "                        J, h, C = QUBO_to_Ising(qubo.todense().tolist())\n",
    "                        maxJ = max(abs(J).flatten())\n",
    "                        maxh = max(abs(h))\n",
    "                        print(maxJ)\n",
    "                        print(maxh)\n",
    "                        # Set chain strength\n",
    "                        chain_strength = maxJ * 2\n",
    "    \n",
    "                        # DWave settings\n",
    "                        solver = \"DW_2000Q_6\"\n",
    "                        sampler = DWaveSampler(solver=solver)\n",
    "    \n",
    "                        qpu_graph = sampler.edgelist\n",
    "                        qubo_dict = {key: val for key, val in zip(qubo.keys(), qubo.values())}\n",
    "                        for idx in range(iterations):\n",
    "                            print(f\"\\rSolving {idx+1}/{iterations}\", end=\"\")\n",
    "                            embed, embedding, min_offset, max_offset = retry_embedding(\n",
    "                                sampler=sampler,\n",
    "                                qubo_dict=qubo_dict,\n",
    "                                qpu_graph=qpu_graph,\n",
    "                                graph_tag=tag,\n",
    "                                target_min=target_min,\n",
    "                                target_range=target_range,\n",
    "                                n_tries=retries,\n",
    "                            )\n",
    "                            a = ['children', 'embedding_parameters', 'find_embedding', 'parameters', 'properties', 'target_structure', 'scale_aware', 'embedding']\n",
    "                            anneal_offsets, exp_tag = find_offset(\n",
    "                                h=h,\n",
    "                                fcn=offsetcls.fcn,\n",
    "                                embedding=embedding,\n",
    "                                offset_min=problem_min,\n",
    "                                offset_range=problem_range,\n",
    "                            )\n",
    "                            dwave_config = {\n",
    "                                \"annealing_time\": annealing_time,  # integer microseconds [1, 2000]\n",
    "                                \"answer_mode\": answer_mode,  # histogram or raw\n",
    "                                \"auto_scale\": auto_scale,\n",
    "                                \"num_reads\": num_reads,  # raw will dump out all results\n",
    "                                \"num_spin_reversal_transforms\": num_spin_reversal_transforms,\n",
    "                                \"readout_thermalization\": readout_thermalization,  # default 0\n",
    "                                \"programming_thermalization\": programming_thermalization,  # default 1000\n",
    "                                \"chain_strength\": chain_strength,\n",
    "                                \"anneal_offsets\": anneal_offsets,\n",
    "                            }\n",
    "    \n",
    "                            experiment_params = experiment_summary(\n",
    "                                machine=solver,\n",
    "                                settings=dwave_config,\n",
    "                                penalty=penalty,\n",
    "                                chain_strength=chain_strength,\n",
    "                                tag=exp_tag,\n",
    "                            )\n",
    "                            # Solve on DWave and push to database\n",
    "                            result = embed.sample_qubo(qubo_dict, **dwave_config)\n",
    "                            print(qubo_dict)\n",
    "                            print(vars(embed)['parameters'])\n",
    "                            print(embedding)\n",
    "                            print(h)\n",
    "                            print(J)\n",
    "                            print(chain_strength)\n",
    "                            raise SystemExit\n",
    "                            raw = result.to_pandas_dataframe()\n",
    "                            data_params = data_summary(raw, graph_params, experiment_params)\n",
    "                            if insertdb:\n",
    "                                result = insert_result(graph_params, experiment_params, data_params)\n",
    "                            #print(raw.sort_values(\"energy\", ascending=True))\n",
    "print(\"\\nDONE\")"
   ]
  },
  {
   "cell_type": "code",
   "execution_count": null,
   "metadata": {},
   "outputs": [],
   "source": [
    "raw.sort_values(\"energy\", ascending=True)"
   ]
  },
  {
   "cell_type": "code",
   "execution_count": null,
   "metadata": {},
   "outputs": [],
   "source": []
  },
  {
   "cell_type": "code",
   "execution_count": null,
   "metadata": {},
   "outputs": [],
   "source": []
  }
 ],
 "metadata": {
  "kernelspec": {
   "display_name": "Python 3",
   "language": "python",
   "name": "python3"
  },
  "language_info": {
   "codemirror_mode": {
    "name": "ipython",
    "version": 3
   },
   "file_extension": ".py",
   "mimetype": "text/x-python",
   "name": "python",
   "nbconvert_exporter": "python",
   "pygments_lexer": "ipython3",
   "version": "3.8.3"
  }
 },
 "nbformat": 4,
 "nbformat_minor": 1
}
