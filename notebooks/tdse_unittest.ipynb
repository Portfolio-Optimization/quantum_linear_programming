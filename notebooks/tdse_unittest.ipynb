{
 "cells": [
  {
   "cell_type": "markdown",
   "metadata": {},
   "source": [
    "# imports"
   ]
  },
  {
   "cell_type": "code",
   "execution_count": 15,
   "metadata": {},
   "outputs": [],
   "source": [
    "import os\n",
    "\n",
    "os.environ[\"DJANGO_ALLOW_ASYNC_UNSAFE\"] = \"true\"\n",
    "\n",
    "import numpy as np\n",
    "import matplotlib as mpl\n",
    "import matplotlib.pyplot as plt\n",
    "from matplotlib.colors import ListedColormap\n",
    "import seaborn as sns\n",
    "\n",
    "mpl.pyplot.ion()\n",
    "%matplotlib inline\n",
    "import pickle\n",
    "\n",
    "from qlp.mds import graph_tools as gt\n",
    "from qlp.mds.qubo import get_mds_qubo\n",
    "from qlp.mds.mds_qlpdb import QUBO_to_Ising, graph_summary\n",
    "\n",
    "from qlp.tdse import TDSE, embed_qubo_example, convert_params, add_jchaos\n",
    "\n",
    "from qlpdb.tdse.models import Tdse\n",
    "\n",
    "import time"
   ]
  },
  {
   "cell_type": "code",
   "execution_count": 19,
   "metadata": {},
   "outputs": [
    {
     "data": {
      "image/png": "[encoded data removed]",
      "text/plain": [
       "<Figure size 792x72 with 1 Axes>"
      ]
     },
     "metadata": {
      "needs_background": "light"
     },
     "output_type": "display_data"
    },
    {
     "data": {
      "image/png": "[encoded data removed]",
      "text/plain": [
       "<Figure size 792x72 with 1 Axes>"
      ]
     },
     "metadata": {
      "needs_background": "light"
     },
     "output_type": "display_data"
    },
    {
     "data": {
      "image/png": "[encoded data removed]",
      "text/plain": [
       "<Figure size 792x72 with 1 Axes>"
      ]
     },
     "metadata": {
      "needs_background": "light"
     },
     "output_type": "display_data"
    }
   ],
   "source": [
    "OFFSETS = 0.01 * (np.arange(11) - 5)\n",
    "OFFSET_COLORS = sns.diverging_palette(0, 255, l=50, center=\"dark\", n=11)\n",
    "OFFSET_COLORS2 = sns.diverging_palette(51, 204, l=50, center=\"dark\", n=11)\n",
    "OFFSET_COLORS3 = sns.diverging_palette(102, 153, l=50, center=\"dark\", n=11)\n",
    "\n",
    "OFFSET_MAP = dict(zip(OFFSETS, OFFSET_COLORS))\n",
    "OFFSET_MAP2 = dict(zip(OFFSETS, OFFSET_COLORS2))\n",
    "OFFSET_MAP3 = dict(zip(OFFSETS, OFFSET_COLORS3))\n",
    "\n",
    "OFFSET_CMAP = ListedColormap(OFFSET_COLORS)\n",
    "sns.palplot(OFFSET_COLORS)\n",
    "sns.palplot(OFFSET_COLORS2)\n",
    "sns.palplot(OFFSET_COLORS3)\n",
    "\n",
    "p = dict()\n",
    "p[\"figsize\"] = (7, 4)\n",
    "p[\"aspect_ratio\"] = [0.15, 0.15, 0.8, 0.8]\n",
    "p[\"textargs\"] = {\"fontsize\": 10}"
   ]
  },
  {
   "cell_type": "markdown",
   "metadata": {},
   "source": [
    "# Setup"
   ]
  },
  {
   "cell_type": "markdown",
   "metadata": {},
   "source": [
    "## Graph specific parameters "
   ]
  },
  {
   "cell_type": "markdown",
   "metadata": {},
   "source": [
    "Creates a line graph `o-o-o-...-o`"
   ]
  },
  {
   "cell_type": "code",
   "execution_count": 2,
   "metadata": {},
   "outputs": [],
   "source": [
    "nvertices = 2\n",
    "graph, tag = gt.generate_nn_graph(nvertices)\n",
    "directed = False"
   ]
  },
  {
   "cell_type": "markdown",
   "metadata": {},
   "source": [
    "## ILP / QUBO setup"
   ]
  },
  {
   "cell_type": "markdown",
   "metadata": {},
   "source": [
    "Initializes the Qubo for the Minimum Dominating Set problem"
   ]
  },
  {
   "cell_type": "code",
   "execution_count": 3,
   "metadata": {},
   "outputs": [],
   "source": [
    "penalty = 2\n",
    "qubo = get_mds_qubo(\n",
    "    graph, directed=directed, penalty=penalty, triangularize=True, dtype=\"d\"\n",
    ")\n",
    "qubo_constant = penalty * nvertices"
   ]
  },
  {
   "cell_type": "markdown",
   "metadata": {},
   "source": [
    "## Set up ising model"
   ]
  },
  {
   "cell_type": "markdown",
   "metadata": {},
   "source": [
    "Computes the corresponding Ising model parameters for the QUBO\n",
    "\n",
    "**if embed is True:** \n",
    "    This embeds the QUBO into a chimera graph. Currently there is only an explicit result from G(2). I will in the future actually embed with DWave minorminer."
   ]
  },
  {
   "cell_type": "code",
   "execution_count": 4,
   "metadata": {},
   "outputs": [
    {
     "name": "stdout",
     "output_type": "stream",
     "text": [
      "{'tag': 'NN(2)', 'total_vertices': 2, 'total_edges': 1, 'total_qubits': 5, 'max_edges': 1, 'adjacency': [[0, 1]], 'adjacency_hash': '2864ee150babb3f03de5e76a1733df4b'}\n",
      "[[6.5, 0.0, -4.0, -16.0, -4.0], [0.0, -3.0, -4.0, 8.0, -4.0], [0.0, 0.0, 6.0, 0.0, 0.0], [0.0, 0.0, 0.0, 6.5, 0.0], [0.0, 0.0, 0.0, 0.0, 6.0]]\n",
      "[ 2.75  1.5  -1.   -1.25 -1.  ]\n"
     ]
    }
   ],
   "source": [
    "embed = True  # nvertices = [2, 3] available\n",
    "embedding = None\n",
    "\n",
    "if embed:\n",
    "    # read embedded qubo\n",
    "    qubo, embedding = embed_qubo_example(nvertices)\n",
    "\n",
    "Jij, hi, c = QUBO_to_Ising(qubo.todense().tolist())\n",
    "hi_for_offset = hi\n",
    "\n",
    "graph_params = graph_summary(tag, graph, qubo)\n",
    "print(graph_params)\n",
    "print(qubo.todense().tolist())\n",
    "print(hi)"
   ]
  },
  {
   "cell_type": "markdown",
   "metadata": {},
   "source": [
    "## Anneal specific parameters"
   ]
  },
  {
   "cell_type": "markdown",
   "metadata": {},
   "source": [
    "Parameters which are related to converting physical unites to unitless units\n",
    "\n",
    "* **annealing_time:** Annealing time as defined from s = [0, 1] in microseconds\n",
    "* **normalized_time:** This is s. Set it to < 0 or > 1 if offset is used to allow for a complete annealing schedule. The total time in microseconds will increase accordingly.\n",
    "* **energyscale:** Converts units from D-Wave parameters to unitless parameters (see eq. 65 in the notes)"
   ]
  },
  {
   "cell_type": "code",
   "execution_count": 5,
   "metadata": {},
   "outputs": [
    {
     "name": "stdout",
     "output_type": "stream",
     "text": [
      "{'Jij': [[0.0, 0.0, -1.0, -4.0, -1.0], [0.0, 0.0, -1.0, 2.0, -1.0], [0.0, 0.0, 0.0, 0.0, 0.0], [0.0, 0.0, 0.0, 0.0, 0.0], [0.0, 0.0, 0.0, 0.0, 0.0]], 'hi': [2.75, 1.5, -1.0, -1.25, -1.0], 'c': 5.0, 'energyscale': 0.5297795368616852, 'qubo_constant': 4, 'penalty': 2}\n"
     ]
    }
   ],
   "source": [
    "annealing_time = 0.001/11.86\n",
    "\n",
    "normalized_time = [0, 1]  # make larger range for complete offsets\n",
    "\n",
    "# assume annealing_time unit in microsecond and energy unit in Ghz\n",
    "def energyscaleconversion(annealing_time):\n",
    "    return annealing_time * 1000.0 * (2.0 * np.pi)\n",
    "\n",
    "\n",
    "energyscale = energyscaleconversion(annealing_time)\n",
    "ising_params = {\n",
    "    \"Jij\": [list(row) for row in Jij],\n",
    "    \"hi\": list(hi),\n",
    "    \"c\": c,\n",
    "    \"energyscale\": energyscale,\n",
    "    \"qubo_constant\": qubo_constant,\n",
    "    \"penalty\": penalty,\n",
    "}\n",
    "print(ising_params)"
   ]
  },
  {
   "cell_type": "markdown",
   "metadata": {},
   "source": [
    "## Anneal curve specific parameters"
   ]
  },
  {
   "cell_type": "markdown",
   "metadata": {},
   "source": [
    "Parameters which specify how the anneal curve is realized:\n",
    "\n",
    "* **offset:** This is a string argument to the fcn method of the class AnnealOffset in qlp.mds.mds_qlpdb. Define your own anneal offset routine here or call\n",
    "an existing one. E-mail me if you need more explanation.\n",
    "* **offset_min, offset_range:** Argument to AnnealOffset class. Specify offset boundaries and are set later in a loop.\n",
    "* **anneal_curve:** The realized curve. Currently implemented are linear, logistic and d-wave.\n",
    "* **fill_value:** If normalized_time is extended beyond (0, 1), this option decides whether to extrapolate the anneal schedule, or truncate it at the nearest value."
   ]
  },
  {
   "cell_type": "code",
   "execution_count": 6,
   "metadata": {},
   "outputs": [],
   "source": [
    "offset = \"binary\"\n",
    "anneal_curve = \"constantA\"\n",
    "fill_value = \"extrapolate\""
   ]
  },
  {
   "cell_type": "markdown",
   "metadata": {},
   "source": [
    "## Parameters for numerical solve of ODE"
   ]
  },
  {
   "cell_type": "markdown",
   "metadata": {},
   "source": [
    "Parameters to solve the ODE. See also `scipy.integrate.solve_ivp`."
   ]
  },
  {
   "cell_type": "code",
   "execution_count": 7,
   "metadata": {},
   "outputs": [],
   "source": [
    "solver_params = dict()\n",
    "solver_params[\"method\"] = \"RK45\"\n",
    "solver_params[\"rtol\"] = 1e-6\n",
    "solver_params[\"atol\"] = 1e-7"
   ]
  },
  {
   "cell_type": "markdown",
   "metadata": {},
   "source": [
    "## System parameters"
   ]
  },
  {
   "cell_type": "markdown",
   "metadata": {},
   "source": [
    "Parameters used to specify the initial conditions of the system:\n",
    "\n",
    "* **pure_tdse:** This is a boolean (True / False) flag and runs the pure state solver.\n",
    "* **mixed_tdse:** This boolean flag runs the mixed state solver.\n",
    "* **temp:** This sets the temperature for the mixed state solver in kelvins.\n",
    "* **initial_wavefunction:** For the pure state solver, the initial wavefunc- tion can be chosen to be the ground state of ∑σx (transverse) or H(0)(real). For the DWave anneal schedule, or when annealing offsets are used without extended annealing times, these two options are not the same. Can be \"true\" or \"transverse\".\n"
   ]
  },
  {
   "cell_type": "code",
   "execution_count": 8,
   "metadata": {},
   "outputs": [],
   "source": [
    "initial_wavefunction = \"transverse\"\n",
    "\n",
    "pure_tdse = False\n",
    "\n",
    "mixed_tdse = True\n",
    "temp = 0.04799*11.86/(2.0*np.pi)\n",
    "gamma = 0.0\n",
    "temp_local = 0.04799*11.86/(2.0*np.pi)\n",
    "gamma_local = 0"
   ]
  },
  {
   "cell_type": "markdown",
   "metadata": {},
   "source": [
    "## Output parameters"
   ]
  },
  {
   "cell_type": "markdown",
   "metadata": {},
   "source": [
    "Parameters used for visializing results:\n",
    "* **degeneracy_tol:** This sets the numerical tolerance as to when an excited- state is labeled as degenerate to the ground state. This is important for graphs with degenerate ground states.\n",
    "* **debug:** Write more output during computations.\n",
    "* **save_result:** Store results to pickle files. "
   ]
  },
  {
   "cell_type": "code",
   "execution_count": 9,
   "metadata": {},
   "outputs": [],
   "source": [
    "degeneracy_tol = 2e-2\n",
    "debug = True\n",
    "save_result = False\n",
    "skip_db = True"
   ]
  },
  {
   "cell_type": "markdown",
   "metadata": {},
   "source": [
    "# Run computations"
   ]
  },
  {
   "cell_type": "markdown",
   "metadata": {},
   "source": [
    "In this section we run over different anneal time offsets"
   ]
  },
  {
   "cell_type": "code",
   "execution_count": 31,
   "metadata": {
    "scrolled": false
   },
   "outputs": [
    {
     "name": "stdout",
     "output_type": "stream",
     "text": [
      "offset 0.0\n",
      "From find offset\n",
      "[0.0, 0.0, 0.0, 0.0, 0.0]\n",
      "Init TDSE: 0.02222895622253418 seconds\n"
     ]
    },
    {
     "data": {
      "image/png": "[encoded data removed]",
      "text/plain": [
       "<Figure size 432x288 with 1 Axes>"
      ]
     },
     "metadata": {
      "needs_background": "light"
     },
     "output_type": "display_data"
    },
    {
     "name": "stdout",
     "output_type": "stream",
     "text": [
      "Ising ground state energy: 0.0\n",
      "Ising ground state\n",
      "0\n",
      "00000\n",
      "Ising ground state energy: 0.0\n",
      "Ising ground state\n",
      "1\n",
      "00001\n",
      "From find offset\n",
      "[0.0, -0.1, -0.1, -0.1, -0.1]\n",
      "acdefbcdef->ab\n",
      "entropy param 1 acdefbcdef->ab\n",
      "mixed measurement not in db\n",
      "dE [  0.       23.72094  23.72094  23.72094  23.72094  23.72094  47.44188\n",
      "  47.44188  47.44188  47.44188  47.44188  47.44188  47.44188  47.44188\n",
      "  47.44188  47.44188  71.16282  71.16282  71.16282  71.16282  71.16282\n",
      "  71.16282  71.16282  71.16282  71.16282  71.16282  94.88376  94.88376\n",
      "  94.88376  94.88376  94.88376 118.6047 ]\n",
      "pr [5.30183320e-01 7.17395551e-02 7.17395551e-02 7.17395551e-02\n",
      " 7.17395551e-02 7.17395551e-02 9.70714009e-03 9.70714009e-03\n",
      " 9.70714009e-03 9.70714009e-03 9.70714009e-03 9.70714009e-03\n",
      " 9.70714009e-03 9.70714009e-03 9.70714009e-03 9.70714009e-03\n",
      " 1.31348137e-03 1.31348137e-03 1.31348137e-03 1.31348137e-03\n",
      " 1.31348137e-03 1.31348137e-03 1.31348137e-03 1.31348137e-03\n",
      " 1.31348137e-03 1.31348137e-03 1.77728278e-04 1.77728278e-04\n",
      " 1.77728278e-04 1.77728278e-04 1.77728278e-04 2.40485642e-05] total 1.0\n",
      "theory [5.30126270e-01 7.17447889e-02 7.17447889e-02 7.17447889e-02\n",
      " 7.17447889e-02 7.17447889e-02 9.70960133e-03 9.70960133e-03\n",
      " 9.70960133e-03 9.70960133e-03 9.70960133e-03 9.70960133e-03\n",
      " 9.70960133e-03 9.70960133e-03 9.70960133e-03 9.70960133e-03\n",
      " 1.31405165e-03 1.31405165e-03 1.31405165e-03 1.31405165e-03\n",
      " 1.31405165e-03 1.31405165e-03 1.31405165e-03 1.31405165e-03\n",
      " 1.31405165e-03 1.31405165e-03 1.77837552e-04 1.77837552e-04\n",
      " 1.77837552e-04 1.77837552e-04 1.77837552e-04 2.40676954e-05]\n",
      "init v entropy (1.0283550142547521e-07-0j)\n",
      "init density matrix [1.+0.j 0.+0.j 0.+0.j ... 0.+0.j 0.+0.j 0.+0.j]\n",
      "von Neumann solve: 2.6955599784851074 seconds\n",
      "Num. degenerate states @ s=1: 2\n"
     ]
    },
    {
     "data": {
      "image/png": "[encoded data removed]",
      "text/plain": [
       "<Figure size 504x288 with 1 Axes>"
      ]
     },
     "metadata": {
      "needs_background": "light"
     },
     "output_type": "display_data"
    },
    {
     "data": {
      "image/png": "[encoded data removed]",
      "text/plain": [
       "<Figure size 432x288 with 1 Axes>"
      ]
     },
     "metadata": {
      "needs_background": "light"
     },
     "output_type": "display_data"
    }
   ],
   "source": [
    "#%%timeit -n 1 -r 1\n",
    "\n",
    "# brute force solving time-dependent schrodinger equation to simulate quantum annealing for small systems\n",
    "result = dict()\n",
    "offset_min_list = [0.]\n",
    "Aoffset = 0.0\n",
    "\n",
    "for offset_min in offset_min_list:\n",
    "    print(\"offset\", offset_min)\n",
    "    offset_min = offset_min\n",
    "    offset_range = 2 * abs(offset_min)\n",
    "\n",
    "    offset_params = {\n",
    "        \"annealing_time\": annealing_time,\n",
    "        \"normalized_time\": normalized_time,\n",
    "        \"offset\": offset,\n",
    "        \"hi_for_offset\": hi_for_offset,\n",
    "        \"embedding\": embedding,\n",
    "        \"offset_min\": offset_min,\n",
    "        \"offset_range\": offset_range,\n",
    "        \"fill_value\": fill_value,\n",
    "        \"anneal_curve\": anneal_curve,\n",
    "        \"Aoffset\": Aoffset\n",
    "    }\n",
    "\n",
    "    # instantiate ode solver\n",
    "    start = time.time()\n",
    "    tdse = TDSE(graph_params, ising_params, offset_params, solver_params)\n",
    "    end = time.time()\n",
    "    print(f\"Init TDSE: {end-start} seconds\")\n",
    "    \n",
    "    # plot anneal schedule\n",
    "    tdse.AS.plot(normalized_time)\n",
    "    \n",
    "    val,vec=np.linalg.eigh(tdse.IsingH.todense())\n",
    "    print('Ising ground state energy:',val[0])\n",
    "    print('Ising ground state')\n",
    "    #print(vec[:,0])\n",
    "    I=int(np.argmax(vec[:,0]))\n",
    "    print(I)\n",
    "    print('{0:05b}'.format(I))\n",
    "    print('Ising ground state energy:',val[1])\n",
    "    print('Ising ground state')\n",
    "    #print(vec[:,1])\n",
    "    I=int(np.argmax(vec[:,1]))\n",
    "    print(I)\n",
    "    print('{0:05b}'.format(I))\n",
    "    \n",
    "    # get offset list to get partition for entanglement entropy\n",
    "    nA, indicesA = tdse.find_partition()\n",
    "    print(\"entropy param\",nA,indicesA)\n",
    "    reg = 1e-10\n",
    "    entropy_params = {\"nA\": nA, \"indicesA\": indicesA, \"reg\": reg}\n",
    "    \n",
    "    ############################################################\n",
    "    ###### code block for thermal mixed state simultation ######\n",
    "    ############################################################\n",
    "    if mixed_tdse:\n",
    "        wave_params = dict()\n",
    "        wave_params[\"type\"] = \"mixed\"\n",
    "        wave_params[\"temp\"] = temp\n",
    "        wave_params[\"gamma\"] = gamma\n",
    "        wave_params[\"gamma_local\"] = gamma_local\n",
    "        wave_params[\"initial_wavefunction\"] = initial_wavefunction\n",
    "        if not skip_db:\n",
    "            query = Tdse.objects.filter(\n",
    "                graph__tag=graph_params[\"tag\"],\n",
    "                offset__contains=convert_params(offset_params),\n",
    "                ising__contains=convert_params(ising_params),\n",
    "                solver__contains=solver_params,\n",
    "                wave__contains=wave_params,\n",
    "            ).first()\n",
    "        else:\n",
    "            query = False\n",
    "        if not query:\n",
    "            print(\"mixed measurement not in db\")\n",
    "            # initial density matrix\n",
    "            rho = tdse.init_densitymatrix(temp, temp_local, initial_wavefunction, debug=debug)\n",
    "            \n",
    "            dE=np.asarray([-5,-3,-3,-3,-3,-3,-1,-1,-1,-1,-1,-1,-1,-1,-1,-1,1,1,1,1,1,1,1,1,1,1,3,3,3,3,3,5])\n",
    "            dE=dE+5.0\n",
    "            checkprob=np.exp(-dE)\n",
    "            checkprob=checkprob/np.sum(checkprob)\n",
    "            print(\"theory\",checkprob)\n",
    "            \n",
    "            rho=np.zeros((32*32))\n",
    "            rho[0]=1\n",
    "            rho=rho*(1+0j)\n",
    "            rhodim=int(np.sqrt(len(rho)))\n",
    "            tdse.gamma=gamma\n",
    "            tdse.gamma_local=gamma_local\n",
    "            \n",
    "            print('init v entropy',tdse.vonNeumann_entropy(rho, reg))\n",
    "            print('init density matrix',rho)\n",
    "            \n",
    "            \n",
    "            # solve\n",
    "            start = time.time()\n",
    "            sol_densitymatrix = tdse.solve_mixed(rho)\n",
    "            end = time.time()\n",
    "            print(f\"von Neumann solve: {end-start} seconds\")\n",
    "            \n",
    "            # overlap with Ising ground state\n",
    "            gs_idx, Isingenergy, Isingeigv = tdse.ground_state_degeneracy(\n",
    "                tdse.IsingH, degeneracy_tol, debug=debug\n",
    "            )\n",
    "            project = sum(\n",
    "                [\n",
    "                    np.kron(Isingeigv[:, idx], np.conj(Isingeigv[:, idx]))\n",
    "                    for idx in gs_idx\n",
    "                ]\n",
    "            )\n",
    "            prob = np.asarray(\n",
    "                [\n",
    "                    np.absolute((np.dot(np.conj(project), sol_densitymatrix.y[:, i])))\n",
    "                    for i in range(sol_densitymatrix.t.size)\n",
    "                ]\n",
    "            )\n",
    "            totalprob = np.asarray(\n",
    "                [\n",
    "                    np.absolute((np.trace(sol_densitymatrix.y[:, i].reshape((rhodim,rhodim)))))\n",
    "                    for i in range(sol_densitymatrix.t.size)\n",
    "                ]\n",
    "            )\n",
    "            zeroprob = np.asarray(\n",
    "                [\n",
    "                    np.absolute(sol_densitymatrix.y[0, i])\n",
    "                    for i in range(sol_densitymatrix.t.size)\n",
    "                ]\n",
    "            )\n",
    "            \n",
    "            # save result to EspressoDB\n",
    "            #query = tdse.summary(\n",
    "            #    wave_params=wave_params,\n",
    "            #    instance=tdse,\n",
    "            #    solution=sol_densitymatrix,\n",
    "            #    time=sol_densitymatrix.t,\n",
    "            #    probability=prob,\n",
    "            #    save = save_result,\n",
    "            #)\n",
    "        # calculate entanglement entropy\n",
    "        # this example partion 4 qubits into A:(3,4) and B:(1,2)\n",
    "        #with open(query.solution.path, \"rb\") as file:\n",
    "        #    sol = pickle.load(file)\n",
    "        sol=sol_densitymatrix\n",
    "        entropy = np.asarray(\n",
    "            [\n",
    "                tdse.ent_entropy(sol.y[:, i], **entropy_params)\n",
    "                for i in range(sol.t.size)\n",
    "            ]\n",
    "        ).real\n",
    "        ventropy = np.asarray(\n",
    "            [\n",
    "                tdse.vonNeumann_entropy(sol.y[:, i], reg)\n",
    "                for i in range(sol.t.size)\n",
    "            ]\n",
    "        ).real\n",
    "        import scipy.stats as stats\n",
    "        centropy = np.asarray(\n",
    "            [\n",
    "                stats.entropy(abs(np.diag(sol.y[:, i].reshape(32,32))),base=2)\n",
    "                for i in range(sol.t.size)\n",
    "            ]\n",
    "        ).real\n",
    "        # plot entropy\n",
    "        #plt.figure(\"mixed entropy\")\n",
    "        #plt.plot(sol.t, entropy)\n",
    "        #plt.legend([\"ent entropy\"])\n",
    "        #plt.title(\"mixed ent entropy\")\n",
    "        # plot ventropy\n",
    "        #plt.figure(\"v entropy\")\n",
    "        #plt.plot(sol.t, ventropy)\n",
    "        #plt.legend([\"v entropy\"])\n",
    "        #plt.title(\"mixed v entropy\")\n",
    "        # plot centropy\n",
    "        #plt.figure(\"c entropy\")\n",
    "        #plt.plot(sol.t, centropy)\n",
    "        #plt.legend([\"c entropy\"])\n",
    "        #plt.title(\"mixed c entropy\")\n",
    "        # plot overlap with Ising g.s.\n",
    "        #plt.figure(\"mixed prob\")\n",
    "        #plt.plot(sol.t, prob)\n",
    "        #plt.title(\"mixed probability\")\n",
    "        #print(f\"Mixed Final Prob: {prob[-1]}\")\n",
    "        # plot overlap with vacuum state.\n",
    "        fig = plt.figure(\"vacuum prob\", figsize=p[\"figsize\"])\n",
    "        ax = plt.axes([0.15, 0.15, 0.8, 0.8])\n",
    "        ax.errorbar(x=sol.t, y=zeroprob, ls=\"-\", color=OFFSET_MAP[0.0], label=\"simulation\")\n",
    "        ax.errorbar(x=sol.t, y=(np.cos(2.0*np.pi*sol.t))**10, ls='--', color=OFFSET_MAP[-0.05], label=\"theory\")\n",
    "        ax.legend(bbox_to_anchor=(0.9, 0.9, 0.02, 0.02), fancybox=True, shadow=False, frameon=True, framealpha=0.3)\n",
    "        ax.set_xlabel(\"annealing time $s$ $[\\mu s]$\", p[\"textargs\"])\n",
    "        ax.set_ylabel(\"vacuum probability\", p[\"textargs\"])\n",
    "        fig.savefig(\"../paper/new_figures/vacuum_probability.pdf\", transparent=True)\n",
    "\n",
    "        # plot total probability.\n",
    "        plt.figure(\"total prob\")\n",
    "        plt.plot(sol.t, totalprob)\n",
    "        plt.title(\"total probability\")\n",
    "\n",
    "        # check decoherence\n",
    "        #print(\"hi is\",tdse.ising[\"hi\"])\n",
    "        #finalstate=np.argmax(np.diagonal(sol_densitymatrix.y[:, -1].reshape((rhodim,rhodim))).real)\n",
    "        #print(\"final state\",('{0:0'+str(len(tdse.ising[\"hi\"]))+'b}').format(finalstate))\n",
    "        \n",
    "        # check distribution\n",
    "        #plt.figure(\"distribution\")\n",
    "        #plt.plot(np.linspace(0,rhodim-1,rhodim), np.diagonal(sol_densitymatrix.y[:, -1].reshape((rhodim,rhodim))).real)\n",
    "        #plt.title(\"distribution\")\n",
    "    ############################################################\n",
    "    ###### end of code block for thermal mixed state simultation ######\n",
    "    ############################################################\n",
    "\n",
    "    if pure_tdse:\n",
    "        wave_params = dict()\n",
    "        wave_params[\"type\"] = \"pure\"\n",
    "        wave_params[\"temp\"] = 0\n",
    "        wave_params[\"gamma\"] = 0\n",
    "        wave_params[\"initial_wavefunction\"] = initial_wavefunction\n",
    "        if not skip_db:\n",
    "            query = Tdse.objects.filter(\n",
    "                graph__tag=graph_params[\"tag\"],\n",
    "                offset__contains=convert_params(offset_params),\n",
    "                ising__contains=convert_params(ising_params),\n",
    "                solver__contains=solver_params,\n",
    "                wave__contains=wave_params,\n",
    "            ).first()\n",
    "        else:\n",
    "            query = False\n",
    "        \n",
    "        if not query:\n",
    "            print(\"pure measurement not in db\")\n",
    "            # Initial wavefunction\n",
    "            y1 = tdse.init_wavefunction(initial_wavefunction)\n",
    "    \n",
    "            # solve\n",
    "            start = time.time()\n",
    "            sol = tdse.solve_pure(y1, ngrid=2, debug=debug)\n",
    "            end = time.time()\n",
    "            print(f\"Schrodinger solve: {end-start} seconds\")\n",
    "            \n",
    "            # get ground state degeneracy\n",
    "            ground_state_idx, energy, eigv = tdse.ground_state_degeneracy(\n",
    "                tdse.IsingH, degeneracy_tol, debug=debug\n",
    "            )\n",
    "    \n",
    "            # calculate probability overlap with Ising ground state\n",
    "            prob = [tdse.calculate_overlap(eigv, sol.y[:, i], ground_state_idx) for i in range(sol.t.size)]\n",
    "            plt.plot(sol.t, prob) # plot prob\n",
    "    \n",
    "            query = tdse.summary(\n",
    "                wave_params=wave_params,\n",
    "                instance=tdse,\n",
    "                solution=sol,\n",
    "                time=sol.t,\n",
    "                probability=prob,\n",
    "                save = save_result,\n",
    "            )\n",
    "        # calculate entropy\n",
    "        with open(query.solution.path, \"rb\") as file:\n",
    "            sol = pickle.load(file)\n",
    "        entropy = np.asarray(\n",
    "                [\n",
    "                    tdse.ent_entropy(np.kron(sol.y[:, i], np.conj(sol.y[:, i])), nA, indicesA, reg)\n",
    "                    for i in range(sol.t.size)\n",
    "                ]\n",
    "            ).real\n",
    "        # plot entropy\n",
    "        plt.figure(\"pure entropy\")\n",
    "        plt.plot(query.time, entropy)\n",
    "        plt.legend([\"ent entropy\"])\n",
    "        plt.title(\"pure ent entropy\")\n",
    "        # plot overlap with Ising g.s.\n",
    "        plt.figure(\"pure probability\")\n",
    "        plt.plot(query.time, query.prob)\n",
    "        plt.title(\"pure probability\")\n",
    "        print(f\"Pure Final Prob: {query.prob[-1]}\")\n"
   ]
  },
  {
   "cell_type": "code",
   "execution_count": 11,
   "metadata": {},
   "outputs": [
    {
     "data": {
      "text/plain": [
       "Text(0.5, 1.0, 'many body hybridazation (Frobenius norm of off diagonal matrix elements) ')"
      ]
     },
     "execution_count": 11,
     "metadata": {},
     "output_type": "execute_result"
    },
    {
     "data": {
      "image/png": "[encoded data removed]",
      "text/plain": [
       "<Figure size 432x288 with 1 Axes>"
      ]
     },
     "metadata": {
      "needs_background": "light"
     },
     "output_type": "display_data"
    }
   ],
   "source": [
    "\n",
    "ngrid=10\n",
    "timegrid=np.linspace(0,1,ngrid)\n",
    "offdiag=np.zeros(ngrid)\n",
    "for i in range(ngrid):\n",
    "    H=tdse.annealingH(timegrid[i]).todense()\n",
    "    offdiag[i]=np.linalg.norm(H-np.diag(np.diag(H)))\n",
    "\n",
    "\n",
    "\n",
    "plt.figure(\"many body hybridazation\")\n",
    "plt.plot(timegrid, offdiag)\n",
    "plt.title(\"many body hybridazation (Frobenius norm of off diagonal matrix elements) \" )\n"
   ]
  },
  {
   "cell_type": "code",
   "execution_count": 12,
   "metadata": {},
   "outputs": [],
   "source": [
    "tdse.offset[\"offset\"] = \"binary\""
   ]
  },
  {
   "cell_type": "code",
   "execution_count": 13,
   "metadata": {},
   "outputs": [],
   "source": [
    "en = entropy\n",
    "pn = prob"
   ]
  },
  {
   "cell_type": "code",
   "execution_count": 14,
   "metadata": {
    "scrolled": true
   },
   "outputs": [
    {
     "ename": "NameError",
     "evalue": "name 'pb' is not defined",
     "output_type": "error",
     "traceback": [
      "\u001b[0;31m---------------------------------------------------------------------------\u001b[0m",
      "\u001b[0;31mNameError\u001b[0m                                 Traceback (most recent call last)",
      "\u001b[0;32m<ipython-input-14-0ca7fd3d23c5>\u001b[0m in \u001b[0;36m<module>\u001b[0;34m\u001b[0m\n\u001b[0;32m----> 1\u001b[0;31m \u001b[0mpb\u001b[0m\u001b[0;34m-\u001b[0m\u001b[0mpn\u001b[0m\u001b[0;34m\u001b[0m\u001b[0;34m\u001b[0m\u001b[0m\n\u001b[0m",
      "\u001b[0;31mNameError\u001b[0m: name 'pb' is not defined"
     ]
    }
   ],
   "source": [
    "pb-pn"
   ]
  },
  {
   "cell_type": "code",
   "execution_count": null,
   "metadata": {},
   "outputs": [],
   "source": [
    "nA, indicesA = tdse.find_partition()\n",
    "print(\"entropy param\",nA,indicesA)\n",
    "reg = 1e-10\n",
    "entropy_params = {\"nA\": nA, \"indicesA\": indicesA, \"reg\": reg}\n",
    "entropy = np.asarray(\n",
    "            [\n",
    "                tdse.ent_entropy(sol.y[:, i], **entropy_params)\n",
    "                for i in range(sol.t.size)\n",
    "            ]\n",
    "        ).real"
   ]
  },
  {
   "cell_type": "code",
   "execution_count": null,
   "metadata": {},
   "outputs": [],
   "source": [
    "rho = tdse.init_densitymatrix(0.3, initial_wavefunction, debug=debug)\n",
    "rho"
   ]
  },
  {
   "cell_type": "code",
   "execution_count": null,
   "metadata": {},
   "outputs": [],
   "source": [
    "### from scipy.sparse.linalg import eigsh\n",
    "from numpy.linalg import eigh\n",
    "\n",
    "# plot spectrum\n",
    "with open(query.instance.path, \"rb\") as file:\n",
    "    tdse = pickle.load(file)\n",
    "normalized_time = tdse.offset[\"normalized_time\"]\n",
    "\n",
    "num_es = 4\n",
    "# unit conversion\n",
    "# sol.y = [GHz / h]\n",
    "make_dimensionless = 1 / energyscale * 1 / tdse.AS.B(normalized_time[1])[0]\n",
    "\n",
    "fig = plt.figure()\n",
    "ax = plt.axes()\n",
    "gap = dict()\n",
    "\n",
    "x = []\n",
    "y = {es: [] for es in range(num_es)}\n",
    "V = []\n",
    "for s in np.linspace(normalized_time[0], normalized_time[1]):\n",
    "    eigval, eigvec = eigh((tdse.annealingH(s)).toarray())\n",
    "    seigval = (\n",
    "        np.sort(eigval) * make_dimensionless + tdse.ising[\"c\"] + tdse.ising[\"qubo_constant\"]\n",
    "    )\n",
    "    x.append(s)\n",
    "    for es in y.keys():\n",
    "        y[es].append(seigval[es])\n",
    "    Vi = np.einsum('ij,j->i', tdse.annealingH(s).todense(), eigvec[1])\n",
    "    Vi = abs(np.einsum('i,i', eigvec[0], Vi).real)\n",
    "    V.append(Vi)\n",
    "for es in y.keys():\n",
    "    ax.errorbar(x=x, y=y[es])\n",
    "gap = {es: np.array(y[es]) - np.array(y[0]) for es in y.keys()}\n",
    "plt.draw()\n",
    "plt.show()\n",
    "print(\"ground state energy:\", y[0][-1])\n",
    "print(\"1st ex state energy:\", y[1][-1])\n",
    "eigval, eigvec = eigh((tdse.annealingH(s)).toarray())\n",
    "print(\"ground state eigvec:\", np.round(eigvec[0]))\n",
    "print(\"1st ex state eigvec:\", np.round(eigvec[1]))\n",
    "kb = 8.617333262145E-5 #eV⋅K−1\n",
    "h = 4.135667696E-15 #eV⋅s\n",
    "h_kb = h/kb # K*s\n",
    "print(\"start gap energy (Kelvins):\", energyscale * tdse.AS.B(normalized_time[1])[0]*(y[1][0] - y[0][0])*1E9*h_kb) \n",
    "mingap = min(np.array(y[2]) - np.array(y[0]))\n",
    "print(\"min gap energy (Kelvins):\", energyscale * tdse.AS.B(normalized_time[1])[0]*mingap*1E9*h_kb)\n",
    "# calculate adiabatic condition V/gap^2\n",
    "print(\"adiabatic condition (ns):\", max(V)/mingap**2)"
   ]
  }
 ],
 "metadata": {
  "kernelspec": {
   "display_name": "Python 3",
   "language": "python",
   "name": "python3"
  },
  "language_info": {
   "codemirror_mode": {
    "name": "ipython",
    "version": 3
   },
   "file_extension": ".py",
   "mimetype": "text/x-python",
   "name": "python",
   "nbconvert_exporter": "python",
   "pygments_lexer": "ipython3",
   "version": "3.8.3"
  }
 },
 "nbformat": 4,
 "nbformat_minor": 2
}
